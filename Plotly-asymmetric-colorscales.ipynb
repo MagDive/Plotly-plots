{
 "cells": [
  {
   "cell_type": "markdown",
   "metadata": {},
   "source": [
    "##  Plotly asymmetric diverging colorscales adapted to data ##"
   ]
  },
  {
   "cell_type": "markdown",
   "metadata": {},
   "source": [
    "###  Symmetric diverging colorscales ###"
   ]
  },
  {
   "cell_type": "markdown",
   "metadata": {},
   "source": [
    "Diverging colorscales are recommendend for visualizing data that are symmetric with respect to a reference value, that is the data range is approximately [reference-val, reference+val], where val>0. Such colormaps emphasize the positive and negative deviations from the reference point.\n",
    "\n",
    "A simplest diverging colormap is defined by two isoiluminant end hues, left color and right color, and  a mid color that has a higher luminance than the end  colors.\n",
    "The normalized reference point is mapped to the central color of the colorscale defined by these three colors.\n",
    "\n"
   ]
  },
  {
   "cell_type": "markdown",
   "metadata": {},
   "source": [
    "Details about  Plotly color scales can be found [here](https://plot.ly/python/heatmaps-contours-and-2dhistograms-tutorial/),\n",
    "and [here](http://nbviewer.ipython.org/gist/jackparmer/4696226c9b6b931bbdf6)."
   ]
  },
  {
   "cell_type": "markdown",
   "metadata": {},
   "source": [
    "We illustrate below how we can define a custom diverging matplotlib colormap, respectively a Plotly colorscale, starting with a list of three colors (left, mid and right color).\n"
   ]
  },
  {
   "cell_type": "code",
   "execution_count": 2,
   "metadata": {
    "collapsed": true
   },
   "outputs": [],
   "source": [
    "import numpy as np\n",
    "import pandas as pd\n",
    "import matplotlib. pyplot as plt\n",
    "from matplotlib import colors\n",
    "from matplotlib.colors import LinearSegmentedColormap\n",
    "%matplotlib inline"
   ]
  },
  {
   "cell_type": "code",
   "execution_count": 29,
   "metadata": {
    "collapsed": true
   },
   "outputs": [],
   "source": [
    "def display_cmap(cmap): #Display  a colormap cmap\n",
    "    plt.imshow(np.linspace(0, 100, 256)[None, :],  aspect=25, interpolation='nearest', cmap=cmap) \n",
    "    plt.axis('off')"
   ]
  },
  {
   "cell_type": "code",
   "execution_count": 30,
   "metadata": {
    "collapsed": true
   },
   "outputs": [],
   "source": [
    "def colormap_to_colorscale(cmap):\n",
    "    #function that transforms a matplotlib colormap to a Plotly colorscale\n",
    "    return [ [k*0.1, colors.rgb2hex(cmap(k*0.1))] for k in range(11)]\n",
    "    "
   ]
  },
  {
   "cell_type": "code",
   "execution_count": 31,
   "metadata": {
    "collapsed": false
   },
   "outputs": [],
   "source": [
    "def colorscale_from_list(alist, name): \n",
    "    # Defines a colormap, and the corresponding Plotly colorscale from the list alist\n",
    "    # alist=the list of basic colors\n",
    "    # name is the name of the corresponding matplotlib colormap\n",
    "    \n",
    "    cmap = LinearSegmentedColormap.from_list(name, alist)\n",
    "    display_cmap(cmap)\n",
    "    colorscale=colormap_to_colorscale(cmap)\n",
    "    return cmap, colorscale"
   ]
  },
  {
   "cell_type": "markdown",
   "metadata": {},
   "source": [
    "Let us define a diverging colorscale from a list of three colors. The left color is green, the right is brown and the mid color is  a low saturated yellow:"
   ]
  },
  {
   "cell_type": "code",
   "execution_count": 32,
   "metadata": {
    "collapsed": true
   },
   "outputs": [],
   "source": [
    "elevation =['#32924c',  '#d7df84', '#91511e']  "
   ]
  },
  {
   "cell_type": "code",
   "execution_count": 33,
   "metadata": {
    "collapsed": false
   },
   "outputs": [
    {
     "data": {
      "image/png": "[encoded data removed]",
      "text/plain": [
       "<matplotlib.figure.Figure at 0x7f2aa089e710>"
      ]
     },
     "metadata": {},
     "output_type": "display_data"
    }
   ],
   "source": [
    "elev_cmap, elev_cs = colorscale_from_list(elevation, 'elev_cmap') "
   ]
  },
  {
   "cell_type": "markdown",
   "metadata": {},
   "source": [
    "The  `elev_cs` colorscale,  appropriate for elevation data, is explicitly defined by the following list of lists:"
   ]
  },
  {
   "cell_type": "code",
   "execution_count": 34,
   "metadata": {
    "collapsed": true
   },
   "outputs": [],
   "source": [
    "elev_cs=[[0.0, '#32924c'],\n",
    " [0.1, '#52a157'],\n",
    " [0.2, '#74b162'],\n",
    " [0.3, '#94c06d'],\n",
    " [0.4, '#b6d079'],\n",
    " [0.5, '#d7de84'],\n",
    " [0.6, '#c9c370'],\n",
    " [0.7, '#bba65b'],\n",
    " [0.8, '#ad8a47'],\n",
    " [0.9, '#9f6d32'],\n",
    " [1.0, '#91511e']]"
   ]
  },
  {
   "cell_type": "markdown",
   "metadata": {},
   "source": [
    "Mount Bruno plotted with this colorscale:"
   ]
  },
  {
   "cell_type": "markdown",
   "metadata": {},
   "source": [
    "<div>\n",
    "    <a href=\"https://plot.ly/~empet/3754/\" target=\"_blank\" title=\"Mount-Bruno\" style=\"display: block; text-align: center;\"><img src=\"https://plot.ly/~empet/3754.png\" alt=\"Mount-Bruno\" style=\"max-width: 100%;width: 600px;\"  width=\"600\" onerror=\"this.onerror=null;this.src='https://plot.ly/404.png';\" /></a>\n",
    "    <script data-plotly=\"empet:3754\"  src=\"https://plot.ly/embed.js\" async></script>\n",
    "</div>\n"
   ]
  },
  {
   "cell_type": "markdown",
   "metadata": {},
   "source": [
    "From a list of red, low saturated white-yellow and green color we define a diverging colormap and  colorscale, that are appropriate for visualizing financial data (see for example [here](http://www.barchart.com/stocks/heatmap.php))."
   ]
  },
  {
   "cell_type": "code",
   "execution_count": 35,
   "metadata": {
    "collapsed": false
   },
   "outputs": [
    {
     "data": {
      "image/png": "[encoded data removed]",
      "text/plain": [
       "<matplotlib.figure.Figure at 0x7f2aa08d6f90>"
      ]
     },
     "metadata": {},
     "output_type": "display_data"
    }
   ],
   "source": [
    "redgreen=['#df0101', '#f5f6ce','#31b404']\n",
    "fin_cmap, fin_cs = colorscale_from_list(redgreen, 'fin_cmap') "
   ]
  },
  {
   "cell_type": "markdown",
   "metadata": {},
   "source": [
    "The resulted financial-type colorscale is represented by the following list:"
   ]
  },
  {
   "cell_type": "code",
   "execution_count": 36,
   "metadata": {
    "collapsed": false
   },
   "outputs": [],
   "source": [
    "fin_cs=[[0.0, u'#df0101'],\n",
    " [0.1, u'#e33129'],\n",
    " [0.2, u'#e86353'],\n",
    " [0.3, u'#ec937b'],\n",
    " [0.4, u'#f1c5a5'],\n",
    " [0.5, u'#f4f6cd'],\n",
    " [0.6, u'#cee9a6'],\n",
    " [0.7, u'#a6db7c'],\n",
    " [0.8, u'#7fce55'],\n",
    " [0.9, u'#57c12c'],\n",
    " [1.0, u'#31b404']]"
   ]
  },
  {
   "cell_type": "markdown",
   "metadata": {},
   "source": [
    "[Seaborn](http://stanford.edu/~mwaskom/software/seaborn/tutorial/color_palettes.html) provides a function for defining custom diverging matplotlib colormaps,  that can be transformed in Plotly colorscales:"
   ]
  },
  {
   "cell_type": "code",
   "execution_count": 37,
   "metadata": {
    "collapsed": true
   },
   "outputs": [],
   "source": [
    "import seaborn as sns\n",
    "sns.set(style=\"white\")"
   ]
  },
  {
   "cell_type": "code",
   "execution_count": 38,
   "metadata": {
    "collapsed": false
   },
   "outputs": [
    {
     "data": {
      "image/png": "[encoded data removed]",
      "text/plain": [
       "<matplotlib.figure.Figure at 0x7f2a9fa610d0>"
      ]
     },
     "metadata": {},
     "output_type": "display_data"
    }
   ],
   "source": [
    "sns_cmap = sns.diverging_palette(220, 10, as_cmap=True)\n",
    "display_cmap(sns_cmap)"
   ]
  },
  {
   "cell_type": "markdown",
   "metadata": {},
   "source": [
    "The corresponding Plotly colorscale:"
   ]
  },
  {
   "cell_type": "code",
   "execution_count": 39,
   "metadata": {
    "collapsed": false
   },
   "outputs": [
    {
     "data": {
      "text/plain": [
       "[[0.0, u'#3f7f93'],\n",
       " [0.1, u'#6397a7'],\n",
       " [0.2, u'#88b1bd'],\n",
       " [0.30000000000000004, u'#acc9d2'],\n",
       " [0.4, u'#d1e2e7'],\n",
       " [0.5, u'#f2f2f2'],\n",
       " [0.6000000000000001, u'#f6cdd0'],\n",
       " [0.7000000000000001, u'#efa8ad'],\n",
       " [0.8, u'#e8848b'],\n",
       " [0.9, u'#e15e68'],\n",
       " [1.0, u'#da3b46']]"
      ]
     },
     "execution_count": 39,
     "metadata": {},
     "output_type": "execute_result"
    }
   ],
   "source": [
    "sns_cs=colormap_to_colorscale(sns_cmap)\n",
    "sns_cs  "
   ]
  },
  {
   "cell_type": "markdown",
   "metadata": {},
   "source": [
    "### Asymmetric diverging colorscales adapted to data ###"
   ]
  },
  {
   "cell_type": "markdown",
   "metadata": {},
   "source": [
    "There are data sets that are asymmetric with respect to a reference value, and it is also of interest to visualize them with a diverging color scale, in order to point out to what extent they exceed the reference value, respectively are under this value.\n",
    "\n",
    "For example we could be interested in the temperature recorded in an area, each month over many years, that exceeds or is below to  32 Fahrenheit degrees (or 0 Celsius degree). \n",
    "\n",
    "The above defined `elev_cs` (elevation) colorscale \n",
    "is destinated for plotting surfaces or contour plots of geographic terrain elevation.\n",
    "A mountain can be green up to some height (reference point) and above it  it is brown (no vegetation there).\n",
    "\n",
    "Symmetric diverging colormaps and colorscales are not appropriate for visualizing such data because they map the mid value of the data range to the color with highest luminance or in this case we are interested in mapping the reference point to that color."
   ]
  },
  {
   "cell_type": "markdown",
   "metadata": {},
   "source": [
    "In the following we give a method to associate an  asymmetric diverging colorscale  to an asymmetric data range with respect to a reference point.\n",
    "Such a colorscale has the maximum luminance at the normalized reference point, and the  luminance is decreasing with the same speed toward ends, as in the images inserted in the next cells:"
   ]
  },
  {
   "cell_type": "code",
   "execution_count": 40,
   "metadata": {
    "collapsed": true
   },
   "outputs": [],
   "source": [
    "from IPython.display import Image"
   ]
  },
  {
   "cell_type": "code",
   "execution_count": null,
   "metadata": {
    "collapsed": true
   },
   "outputs": [],
   "source": []
  },
  {
   "cell_type": "code",
   "execution_count": 41,
   "metadata": {
    "collapsed": false
   },
   "outputs": [
    {
     "data": {
      "image/jpeg": "[encoded data removed]",
      "text/plain": [
       "<IPython.core.display.Image object>"
      ]
     },
     "execution_count": 41,
     "metadata": {},
     "output_type": "execute_result"
    }
   ],
   "source": [
    "Image(filename='Data/sym_colorsc1.jpg')"
   ]
  },
  {
   "cell_type": "code",
   "execution_count": 42,
   "metadata": {
    "collapsed": false
   },
   "outputs": [
    {
     "data": {
      "image/jpeg": "[encoded data removed]",
      "text/plain": [
       "<IPython.core.display.Image object>"
      ]
     },
     "execution_count": 42,
     "metadata": {},
     "output_type": "execute_result"
    }
   ],
   "source": [
    "Image(filename='Data/asym_colorsc2.jpg')"
   ]
  },
  {
   "cell_type": "markdown",
   "metadata": {},
   "source": [
    "Given data of range [`dmin`, `dmax`], the reference point `refp`, with `dmin`<`refp`<`dmax`,\n",
    "and a symmetric diverging matplotlib colormap, `div_cmap`, we define an asymmetric diverging colorscale adapted to this data set.\n",
    "\n",
    "We discuss the case `refp`-`dmin` < `dmax`-`refp`. The opposite case can be easily deduced from this one.  "
   ]
  },
  {
   "cell_type": "markdown",
   "metadata": {},
   "source": [
    "Theoretically, the values in the symmetric interval [refp-(dmax-refp), dmax] are normalized and mapped to colors in the chosen symmetric diverging colormap,\n",
    "`div_cmap`.\n",
    "Then we clip this colormap keeping the colors corresponding to normalized values of the interval [`dmin`, `dmax`]."
   ]
  },
  {
   "cell_type": "markdown",
   "metadata": {},
   "source": [
    "We explain the practical procedure referring to the image below:"
   ]
  },
  {
   "cell_type": "code",
   "execution_count": 43,
   "metadata": {
    "collapsed": false
   },
   "outputs": [
    {
     "data": {
      "image/png": "[encoded data removed]",
      "text/plain": [
       "<IPython.core.display.Image object>"
      ]
     },
     "execution_count": 43,
     "metadata": {},
     "output_type": "execute_result"
    }
   ],
   "source": [
    "Image(filename='Data/asymdiv.png')"
   ]
  },
  {
   "cell_type": "markdown",
   "metadata": {},
   "source": [
    "`s` is the normalized value of dmin, and `repn` of the reference point `refp`."
   ]
  },
  {
   "cell_type": "markdown",
   "metadata": {},
   "source": [
    "Starting from `repn` we divide the interval (s, refpn], respectively (refpn, 1.0), by equally spaced points, with the step size set by default to 0.05. Finally we add the ends, s and 1.0, to the resulted grid. Denote by $T[j]$ a point in this grid. \n",
    "\n",
    "These grid points are  normalized by the linear map\n",
    "$[s, 1]\\mapsto [0,1]$. \n",
    "\n",
    "If T_norm[j]$\\in[0,1]$  are their normalized values, then we define a colorscale from the list of lists\n",
    "\n",
    "[T_norm[j], `div_cmap`(T[j])], j=0, $\\cdots$."
   ]
  },
  {
   "cell_type": "markdown",
   "metadata": {},
   "source": [
    "These ideas are implemented below:"
   ]
  },
  {
   "cell_type": "code",
   "execution_count": 54,
   "metadata": {
    "collapsed": false
   },
   "outputs": [],
   "source": [
    "def normalize(x,a,b): #maps  the interval [a,b]  to [0,1]\n",
    "    if a>b:\n",
    "        raise ValueError('(a,b) is not an interval')\n",
    "    return float(x-a)/(b-a)"
   ]
  },
  {
   "cell_type": "code",
   "execution_count": 55,
   "metadata": {
    "collapsed": true
   },
   "outputs": [],
   "source": [
    "def asymmetric_colorscale(data,  div_cmap, ref_point=0.0, step=0.05):\n",
    "    #data: data can be a DataFrame, list of equal length lists, np.array, np.ma.array\n",
    "    #div_cmap is the symmetric diverging matplotlib or custom colormap\n",
    "    #ref_point:  reference point\n",
    "    #step:  is step size for t in [0,1] to evaluate the colormap at t\n",
    "   \n",
    "    if isinstance(data, pd.DataFrame):\n",
    "        D = data.values\n",
    "    elif isinstance(data, np.ma.core.MaskedArray):\n",
    "        D=np.ma.copy(data)\n",
    "    else:    \n",
    "        D=np.asarray(data, dtype=np.float) \n",
    "    \n",
    "    dmin=np.nanmin(D)\n",
    "    dmax=np.nanmax(D)\n",
    "    if not (dmin < ref_point < dmax):\n",
    "        raise ValueError('data are not appropriate for a diverging colormap')\n",
    "        \n",
    "    if dmax+dmin > 2.0*ref_point:\n",
    "        left=2*ref_point-dmax\n",
    "        right=dmax\n",
    "        \n",
    "        s=normalize(dmin, left,right)\n",
    "        refp_norm=normalize(ref_point, left, right)# normalize reference point\n",
    "        \n",
    "        T=np.arange(refp_norm, s, -step).tolist()+[s]\n",
    "        T=T[::-1]+np.arange(refp_norm+step, 1, step).tolist()\n",
    "        \n",
    "        \n",
    "    else: \n",
    "        left=dmin\n",
    "        right=2*ref_point-dmin\n",
    "        \n",
    "        s=normalize(dmax, left,right) \n",
    "        refp_norm=normalize(ref_point, left, right)\n",
    "        \n",
    "        T=np.arange(refp_norm, 0, -step).tolist()+[0]\n",
    "        T=T[::-1]+np.arange(refp_norm+step, s, step).tolist()+[s]\n",
    "        \n",
    "    L=len(T)\n",
    "    T_norm=[normalize(T[k],T[0],T[-1]) for k in range(L)] #normalize T values  \n",
    "    return [[T_norm[k], colors.rgb2hex(div_cmap(T[k]))] for k in range(L)]\n",
    "    "
   ]
  },
  {
   "cell_type": "markdown",
   "metadata": {},
   "source": [
    "###  Examples ###"
   ]
  },
  {
   "cell_type": "markdown",
   "metadata": {},
   "source": [
    "a) A heatmap  associated  to data related to Exchange Traded Funds (ETFs)"
   ]
  },
  {
   "cell_type": "markdown",
   "metadata": {},
   "source": [
    "Read data from an Excel file:"
   ]
  },
  {
   "cell_type": "code",
   "execution_count": 3,
   "metadata": {
    "collapsed": false
   },
   "outputs": [
    {
     "data": {
      "text/html": [
       "<div>\n",
       "<table border=\"1\" class=\"dataframe\">\n",
       "  <thead>\n",
       "    <tr style=\"text-align: right;\">\n",
       "      <th></th>\n",
       "      <th>Country/ETF-Ticker</th>\n",
       "      <th>Aug-09</th>\n",
       "      <th>Sept-09</th>\n",
       "      <th>Change</th>\n",
       "    </tr>\n",
       "  </thead>\n",
       "  <tbody>\n",
       "    <tr>\n",
       "      <th>0</th>\n",
       "      <td>Australia, EWA</td>\n",
       "      <td>-0.65%</td>\n",
       "      <td>-0.18%</td>\n",
       "      <td>0.47%</td>\n",
       "    </tr>\n",
       "    <tr>\n",
       "      <th>1</th>\n",
       "      <td>Austria, EWO</td>\n",
       "      <td>1.99%</td>\n",
       "      <td>0.99%</td>\n",
       "      <td>-1.00%</td>\n",
       "    </tr>\n",
       "    <tr>\n",
       "      <th>2</th>\n",
       "      <td>Belgium, EWK</td>\n",
       "      <td>0.76%</td>\n",
       "      <td>0.13%</td>\n",
       "      <td>-0.63%</td>\n",
       "    </tr>\n",
       "    <tr>\n",
       "      <th>3</th>\n",
       "      <td>Brazil, EWZ</td>\n",
       "      <td>1.58%</td>\n",
       "      <td>1.22%</td>\n",
       "      <td>-0.36%</td>\n",
       "    </tr>\n",
       "    <tr>\n",
       "      <th>4</th>\n",
       "      <td>Canada,  EWC</td>\n",
       "      <td>0.88%</td>\n",
       "      <td>-0.36%</td>\n",
       "      <td>-1.23%</td>\n",
       "    </tr>\n",
       "  </tbody>\n",
       "</table>\n",
       "</div>"
      ],
      "text/plain": [
       "  Country/ETF-Ticker  Aug-09 Sept-09   Change\n",
       "0     Australia, EWA  -0.65%  -0.18%    0.47%\n",
       "1       Austria, EWO   1.99%   0.99%   -1.00%\n",
       "2     Belgium, EWK     0.76%   0.13%   -0.63%\n",
       "3      Brazil, EWZ     1.58%   1.22%   -0.36%\n",
       "4     Canada,  EWC     0.88%  -0.36%   -1.23%"
      ]
     },
     "execution_count": 3,
     "metadata": {},
     "output_type": "execute_result"
    }
   ],
   "source": [
    "xl = pd.ExcelFile(\"Data/ETF-Data.xls\")\n",
    "df = xl.parse(\"Sheet1\")\n",
    "df.head()"
   ]
  },
  {
   "cell_type": "markdown",
   "metadata": {},
   "source": [
    "- Define a new Dataframe from  the last three columns of  df, remove the character '%', and convert strings to float:"
   ]
  },
  {
   "cell_type": "code",
   "execution_count": 57,
   "metadata": {
    "collapsed": true
   },
   "outputs": [],
   "source": [
    "df1=df[[ u'Aug-09', u'Sept-09', u' Change']]\n",
    "tab=df1.values.tolist()\n",
    "tab=np.array([[float(s.replace('%','')) for s in item] for item in tab])"
   ]
  },
  {
   "cell_type": "markdown",
   "metadata": {},
   "source": [
    "Our data are asymmetric with respect to $0$, because the min and max values are as follows:"
   ]
  },
  {
   "cell_type": "code",
   "execution_count": 48,
   "metadata": {
    "collapsed": false
   },
   "outputs": [
    {
     "name": "stdout",
     "output_type": "stream",
     "text": [
      "-22.05 4.57\n"
     ]
    }
   ],
   "source": [
    "print np.min(tab), np.max(tab)"
   ]
  },
  {
   "cell_type": "markdown",
   "metadata": {},
   "source": [
    "- Define an asymmetric diverging colorscale associated to our data, with the reference point 0, and the symmetric diverging matplotlib colormap, `fin_cmap`, defined above:"
   ]
  },
  {
   "cell_type": "code",
   "execution_count": 49,
   "metadata": {
    "collapsed": true
   },
   "outputs": [],
   "source": [
    "fin_asymm_cs= asymmetric_colorscale(tab,  fin_cmap, ref_point=0.0, step=0.05)"
   ]
  },
  {
   "cell_type": "markdown",
   "metadata": {},
   "source": [
    "- Plot the data (tab)  Heatmap with the new defined colorscale:"
   ]
  },
  {
   "cell_type": "code",
   "execution_count": 58,
   "metadata": {
    "collapsed": true
   },
   "outputs": [],
   "source": [
    "import plotly.plotly as py  \n",
    "from plotly.graph_objs import *"
   ]
  },
  {
   "cell_type": "code",
   "execution_count": 59,
   "metadata": {
    "collapsed": true
   },
   "outputs": [],
   "source": [
    "X=['Aug-09', 'Sept-09', 'Change']\n",
    "Y=list(df[u'Country/ETF-Ticker'])"
   ]
  },
  {
   "cell_type": "code",
   "execution_count": 60,
   "metadata": {
    "collapsed": false
   },
   "outputs": [
    {
     "data": {
      "text/html": [
       "<iframe id=\"igraph\" scrolling=\"no\" style=\"border:none;\"seamless=\"seamless\" src=\"https://plot.ly/~empet/4950.embed\" height=\"900px\" width=\"400px\"></iframe>"
      ],
      "text/plain": [
       "<plotly.tools.PlotlyDisplay object>"
      ]
     },
     "execution_count": 60,
     "metadata": {},
     "output_type": "execute_result"
    }
   ],
   "source": [
    "trace =Heatmap(\n",
    "        z=tab,\n",
    "        x=X, \n",
    "        y=Y,\n",
    "        colorscale=fin_asymm_cs,     \n",
    "        )\n",
    "\n",
    "width = 400\n",
    "height =900\n",
    "\n",
    "layout = Layout(\n",
    "    title='ETFs Data', \n",
    "    font=Font(\n",
    "        family='Balto, sans-serif',\n",
    "        size=12,\n",
    "        color='rgb(68,68,68)'\n",
    "    ),\n",
    "    showlegend=False,\n",
    "    xaxis=XAxis(\n",
    "        title='',  \n",
    "        showgrid=True,\n",
    "        side='top',\n",
    "        tickangle=45\n",
    "    ),\n",
    "    yaxis=YAxis(\n",
    "        title='',\n",
    "        autorange='reversed',\n",
    "        showgrid=True,   \n",
    "        autotick=False,  \n",
    "        dtick=1          \n",
    "    ),\n",
    "    autosize=False, \n",
    "    height=height,   \n",
    "    width=width,\n",
    "    margin=Margin(\n",
    "        l=135,\n",
    "        r=40,\n",
    "        b=85,\n",
    "        t=170\n",
    "    )\n",
    ")\n",
    "   \n",
    "\n",
    "\n",
    "fig=Figure(data=Data([trace]), layout=layout)        \n",
    "\n",
    "annotations = Annotations()\n",
    "alist=list(tab)\n",
    "for i, row in enumerate(alist):\n",
    "    for j, val in enumerate(row):\n",
    "        annotations.append(\n",
    "            Annotation(\n",
    "                text=str(val)+'%', \n",
    "                x=X[j], y=Y[i],\n",
    "                xref='x1', yref='y1',\n",
    "                font=dict(color= 'rgb(25,25,25)'),\n",
    "                showarrow=False))\n",
    "fig['layout'].update(annotations=annotations)  \n",
    "py.sign_in('empet', 'my_api_key')\n",
    "py.iplot(fig, filename='Exchange-Traded-Funds')"
   ]
  },
  {
   "cell_type": "markdown",
   "metadata": {},
   "source": [
    "b) The Heatmap of a data set consisting in  Boston monthly average temperature over many years.  The reference point is 32 Fahrenheit degrees, and the starting symmetric diverging colormap is the `sns_cmap`  (https://plot.ly/~empet/3348/):"
   ]
  },
  {
   "cell_type": "markdown",
   "metadata": {},
   "source": [
    "<div>\n",
    "    <a href=\"https://plot.ly/~empet/3348/\" target=\"_blank\" title=\"Average Temperature in Boston, Month by Year 1872-2002 &lt;br&gt; A heatmap plotted with an asymmetric diverging colorscale\" style=\"display: block; text-align: center;\"><img src=\"https://plot.ly/~empet/3348.png\" alt=\"Average Temperature in Boston, Month by Year 1872-2002 &lt;br&gt; A heatmap plotted with an asymmetric diverging colorscale\" style=\"max-width: 100%;width: 1080px;\"  width=\"1080\" onerror=\"this.onerror=null;this.src='https://plot.ly/404.png';\" /></a>\n",
    "    <script data-plotly=\"empet:3348\"  src=\"https://plot.ly/embed.js\" async></script>\n",
    "</div>\n"
   ]
  },
  {
   "cell_type": "markdown",
   "metadata": {},
   "source": [
    "c) The heatmap of a lower triangular submatrix of a correlation matrix of entries in an asymmetric subinterval in [-1,1],\n",
    "with respect to the reference point $0$  (https://plot.ly/~empet/3265/):"
   ]
  },
  {
   "cell_type": "markdown",
   "metadata": {},
   "source": [
    "<div>\n",
    "    <a href=\"https://plot.ly/~empet/3265/\" target=\"_blank\" title=\"Correlation Matrix with Asymmetric Diverging Colorscale\" style=\"display: block; text-align: center;\"><img src=\"https://plot.ly/~empet/3265.png\" alt=\"Correlation Matrix with Asymmetric Diverging Colorscale\" style=\"max-width: 100%;width: 600px;\"  width=\"600\" onerror=\"this.onerror=null;this.src='https://plot.ly/404.png';\" /></a>\n",
    "    <script data-plotly=\"empet:3265\"  src=\"https://plot.ly/embed.js\" async></script>\n",
    "</div>\n"
   ]
  },
  {
   "cell_type": "code",
   "execution_count": 1,
   "metadata": {
    "collapsed": false
   },
   "outputs": [
    {
     "data": {
      "text/html": [
       "<style>\n",
       "    /*body {\n",
       "        background-color: #F5F5F5;\n",
       "    }*/\n",
       "    div.cell{\n",
       "        width: 900px;\n",
       "        margin-left: 13% !important;\n",
       "        margin-right: auto;\n",
       "    }\n",
       "    #notebook li { /* More space between bullet points */\n",
       "    margin-top:0.8em;\n",
       "    }\n",
       "\n",
       "    h1 {\n",
       "        font-family: 'Alegreya Sans', sans-serif;\n",
       "    }\n",
       "    .text_cell_render h1 {\n",
       "        font-weight: 200;\n",
       "        font-size: 40pt;\n",
       "        line-height: 100%;\n",
       "        color: rgb(8, 66, 133);\n",
       "        margin-bottom: 0em;\n",
       "        margin-top: 0em;\n",
       "        display: block;\n",
       "    }\n",
       "    h2 {\n",
       "        font-family: 'Fenix', serif;\n",
       "        text-indent:1em;\n",
       "        text-align:center;\n",
       "    }\n",
       "    .text_cell_render h2 {\n",
       "        font-weight: 200;\n",
       "        font-size: 28pt;\n",
       "        line-height: 100%;\n",
       "        color: rgb(8, 66, 133);\n",
       "        margin-bottom: 1.5em;\n",
       "        margin-top: 0.5em;\n",
       "        display: block;\n",
       "    }\n",
       "    h3 {\n",
       "        font-family: 'Fenix', serif;\n",
       "        %margin-top:12px;\n",
       "        %margin-bottom: 3px;\n",
       "    }\n",
       "    .text_cell_render h3 {\n",
       "        font-weight: 300;\n",
       "        font-size: 18pt;\n",
       "        line-height: 100%;\n",
       "        color: rgb(8, 66, 133);\n",
       "        margin-bottom: 0.5em;\n",
       "        margin-top: 2em;\n",
       "        display: block;\n",
       "    }\n",
       "    h4 {\n",
       "        font-family: 'Fenix', serif;\n",
       "    }\n",
       "    .text_cell_render h4 {\n",
       "        font-weight: 300;\n",
       "        font-size: 16pt;\n",
       "        color: rgb(8, 66, 133);\n",
       "        margin-bottom: 0.5em;\n",
       "        margin-top: 0.5em;\n",
       "        display: block;\n",
       "    }\n",
       "    h5 {\n",
       "        font-family: 'Alegreya Sans', sans-serif;\n",
       "    }\n",
       "    .text_cell_render h5 {\n",
       "        font-weight: 300;\n",
       "        font-style: normal;\n",
       "        font-size: 16pt;\n",
       "        margin-bottom: 0em;\n",
       "        margin-top: 1.5em;\n",
       "        display: block;\n",
       "        }\n",
       "    div.text_cell_render{\n",
       "        font-family: 'Alegreya Sans',Computer Modern, \"Helvetica Neue\", Arial, Helvetica, Geneva, sans-serif;\n",
       "        line-height: 145%;\n",
       "        font-size: 130%;\n",
       "        width:900px;\n",
       "        margin-left:auto;\n",
       "        margin-right:auto;\n",
       "        %text-align:justify;\n",
       "        %text-justify:inter-word;\n",
       "    }\n",
       "    \n",
       "    \n",
       "    code{\n",
       "      font-size: 78%;\n",
       "    }\n",
       "    .rendered_html code{\n",
       "        background-color: transparent;\n",
       "        white-space: inherit;   \n",
       "    }\n",
       "    .prompt{\n",
       "        display: None;\n",
       "     }\n",
       "    .rendered_html code{\n",
       "    background-color: transparent;\n",
       "    }\n",
       "\n",
       "    blockquote{\n",
       "      display:block;\n",
       "      background: #f3f3f3;\n",
       "      font-family: \"Open sans\",verdana,arial,sans-serif;\n",
       "      width:610px;\n",
       "      padding: 15px 15px 15px 15px;\n",
       "      text-align:justify;\n",
       "      text-justify:inter-word;\n",
       "      }\n",
       "      blockquote p {\n",
       "        margin-bottom: 0;\n",
       "        line-height: 125%;\n",
       "        font-size: 100%;\n",
       "      }\n",
       "   /* element.style {\n",
       "    } */\n",
       "</style>\n",
       "<script>\n",
       "    MathJax.Hub.Config({\n",
       "                        TeX: {\n",
       "                           extensions: [\"AMSmath.js\"]\n",
       "                           },\n",
       "                tex2jax: {\n",
       "                    inlineMath: [ [\"$\",\"$\"], [\"\\\\(\",\"\\\\)\"] ],\n",
       "                    displayMath: [ [\"$$\",\"$$\"], [\"\\\\[\",\"\\\\]\"] ]\n",
       "                },\n",
       "                displayAlign: \"center\", // Change this to \"center\" to center equations.\n",
       "                \"HTML-CSS\": {\n",
       "                    styles: {\".MathJax_Display\": {\"margin\": 4}}\n",
       "                }\n",
       "        });\n",
       "</script>\n"
      ],
      "text/plain": [
       "<IPython.core.display.HTML object>"
      ]
     },
     "execution_count": 1,
     "metadata": {},
     "output_type": "execute_result"
    }
   ],
   "source": [
    "from IPython.core.display import HTML\n",
    "def  css_styling():\n",
    "    styles = open(\"./custom.css\", \"r\").read()\n",
    "    return HTML(styles)\n",
    "css_styling()"
   ]
  }
 ],
 "metadata": {
  "kernelspec": {
   "display_name": "Python 2",
   "language": "python",
   "name": "python2"
  },
  "language_info": {
   "codemirror_mode": {
    "name": "ipython",
    "version": 2
   },
   "file_extension": ".py",
   "mimetype": "text/x-python",
   "name": "python",
   "nbconvert_exporter": "python",
   "pygments_lexer": "ipython2",
   "version": "2.7.9"
  }
 },
 "nbformat": 4,
 "nbformat_minor": 0
}
