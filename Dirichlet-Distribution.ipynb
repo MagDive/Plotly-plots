{
 "cells": [
  {
   "cell_type": "markdown",
   "metadata": {},
   "source": [
    "##  Dirichlet Distribution, $Dir(\\alpha)$ ##"
   ]
  },
  {
   "cell_type": "markdown",
   "metadata": {},
   "source": [
    "In this Jupyter notebook we generate a plot for Wikipedia, illustrating  the graph of a few probability density functions\n",
    "for  the [Dirichlet distribution](https://en.wikipedia.org/wiki/Dirichlet_distribution),  corresponding to different parameter vectors $\\alpha$."
   ]
  },
  {
   "cell_type": "code",
   "execution_count": 1,
   "metadata": {
    "collapsed": true
   },
   "outputs": [],
   "source": [
    "import numpy as np\n",
    "import matplotlib.tri as tri\n",
    "import scipy.stats as st\n",
    "import cmocean #http://matplotlib.org/cmocean/"
   ]
  },
  {
   "cell_type": "markdown",
   "metadata": {},
   "source": [
    "We deal with the Dirichlet distribution defined on the open simplex \n",
    "$\\{(x_1, x_2, x_2)\\:|\\: x_1+x_2+x_3=1, x_k\\in(0,1)\\}$. \n",
    "\n",
    "$(x_1,  x_2, x_3)$ are interpreted as the [baricentric coordinates](https://en.wikipedia.org/wiki/Barycentric_coordinate_system) of the points\n",
    "in a planar triangle."
   ]
  },
  {
   "cell_type": "markdown",
   "metadata": {},
   "source": [
    "We take an equilateral triangle and subdivide it uniformly and recursively,  by a  procedure of type 1-to-4 split:"
   ]
  },
  {
   "cell_type": "code",
   "execution_count": 2,
   "metadata": {
    "collapsed": true
   },
   "outputs": [],
   "source": [
    "def cartesian2baric(verts,  point, dist=1.e-15):\n",
    "    #converts 2d cartesian coordinates to baricentric coordinates with respect\n",
    "    #to an equilateral triangle\n",
    "    midpts = [(vertices[(i + 1) % 3] + vertices[(i + 2) % 3]) / 2.0  for i in range(3)] \n",
    "    baric = [np.dot(verts[i] - midpts[i], point - midpts[i]) / 0.75  for i in range(3)]\n",
    "    return np.clip(baric, dist, 1.0 - dist)#clip coordinates to avoid points on the simplex boundary\n",
    "\n",
    "def uniftriang(vertices, subdiv_level=7):\n",
    "    #define a uniform triangulation of the triangle of vertices vertices\n",
    "    triangle = tri.Triangulation(vertices[:, 0], vertices[:, 1])\n",
    "    refined_tri = tri.UniformTriRefiner(triangle)\n",
    "    finaltri = refined_tri.refine_triangulation(subdiv=subdiv_level)# final triangularization\n",
    "    #finaltri.triangles are the simplices of the triangulation\n",
    "    #finaltri.x, finaltri.y are the cartesian coordinates of the triangulation vertices \n",
    "    return finaltri"
   ]
  },
  {
   "cell_type": "markdown",
   "metadata": {},
   "source": [
    "Define the vertices of an equilateral triangle, subdivide it, and compute the baricentric coordinates of the triangulation points:"
   ]
  },
  {
   "cell_type": "code",
   "execution_count": 3,
   "metadata": {
    "collapsed": true
   },
   "outputs": [],
   "source": [
    "vertices = np.array([[0, 0], [1, 0], [0.5, np.sqrt(3)/2]])\n",
    "triangul=uniftriang(vertices, subdiv_level=7)\n",
    "baric_coords=[cartesian2baric(vertices,  point)  for point in zip(triangul.x, triangul.y)]"
   ]
  },
  {
   "cell_type": "markdown",
   "metadata": {},
   "source": [
    "We plot a surface representing the Dirichlet probability density function as a trisurf. Below are the functions that define the coloring method and the trisurf as a Plotly  `Mesh3d` object:"
   ]
  },
  {
   "cell_type": "code",
   "execution_count": 4,
   "metadata": {
    "collapsed": false
   },
   "outputs": [],
   "source": [
    "import plotly.plotly as py\n",
    "from plotly.graph_objs import *\n",
    "from plotly import tools as tls"
   ]
  },
  {
   "cell_type": "code",
   "execution_count": 23,
   "metadata": {
    "collapsed": true
   },
   "outputs": [],
   "source": [
    "def map_z2color(zval, colormap, vmin, vmax):\n",
    "    #map the normalized value val to a corresponding color in the mpl colormap\n",
    "    \n",
    "    if vmin>=vmax:\n",
    "        raise ValueError('incorrect relation between vmin and vmax')\n",
    "    t=(zval-vmin)/float((vmax-vmin))#normalize val\n",
    "    C=map(np.uint8, np.array(colormap(t)[:3])*255)\n",
    "    #convert to a Plotly color code:\n",
    "    return 'rgb'+str((C[0], C[1], C[2]))\n"
   ]
  },
  {
   "cell_type": "code",
   "execution_count": 24,
   "metadata": {
    "collapsed": false
   },
   "outputs": [],
   "source": [
    "def plotly_trisurf(x, y, z, simplices, colormap=cmocean.cm.bathy, scene='scene1'):\n",
    "    #x, y, z are lists of coordinates of the triangle vertices \n",
    "    #simplices are the simplices that define the triangulation;\n",
    "    #simplices  is a numpy array of shape (no_triangles, 3)\n",
    "    #insert here the  type check for input data\n",
    "    \n",
    "    points3D=np.vstack((x,y,z)).T\n",
    "    \n",
    "    tri_vertices= points3D[simplices]# vertices of the surface triangles  \n",
    "   \n",
    "    zmean=tri_vertices[:, :, 2].mean(-1)# mean values of z-coordinates of the\n",
    "                                        #triangle vertices\n",
    "    \n",
    "    min_zmean=np.min(zmean)\n",
    "    max_zmean=np.max(zmean)  \n",
    "   \n",
    "    facecolor=[map_z2color(zz,  colormap, min_zmean, max_zmean) for zz in zmean] \n",
    "    I,J,K=zip(*simplices)\n",
    "    \n",
    "    triangles=Mesh3d(x=x,\n",
    "                     y=y,\n",
    "                     z=z,\n",
    "                     facecolor=facecolor, \n",
    "                     i=I,\n",
    "                     j=J,\n",
    "                     k=K,\n",
    "                     name=''\n",
    "                    )\n",
    "    \n",
    "    \n",
    "    \n",
    "    return triangles"
   ]
  },
  {
   "cell_type": "markdown",
   "metadata": {},
   "source": [
    "Define a list of  parameters $\\alpha$ for the Dirichlet distributions to be plotted:"
   ]
  },
  {
   "cell_type": "code",
   "execution_count": 16,
   "metadata": {
    "collapsed": true
   },
   "outputs": [],
   "source": [
    "alpha=[[(1.3, 1.3, 1.3), (3, 3, 3), (7, 7, 7)],\n",
    "       [ (2,6,11), (14, 9, 5),  (6, 2, 6)]]\n",
    "m=len(alpha)\n",
    "n=len(alpha[0])"
   ]
  },
  {
   "cell_type": "code",
   "execution_count": 17,
   "metadata": {
    "collapsed": false
   },
   "outputs": [
    {
     "name": "stdout",
     "output_type": "stream",
     "text": [
      "This is the format of your plot grid:\n",
      "[ (1,1) scene1 ]  [ (1,2) scene2 ]  [ (1,3) scene3 ]\n",
      "[ (2,1) scene4 ]  [ (2,2) scene5 ]  [ (2,3) scene6 ]\n",
      "\n"
     ]
    }
   ],
   "source": [
    "fig = tls.make_subplots(rows=m, cols=n, vertical_spacing=0.0075, horizontal_spacing=0.025,\n",
    "                        specs=[ [{'is_3d': True}, {'is_3d': True}, {'is_3d': True}],\n",
    "                                [{'is_3d': True}, {'is_3d': True}, {'is_3d': True}],\n",
    "                              ],\n",
    "                      \n",
    "                       )"
   ]
  },
  {
   "cell_type": "code",
   "execution_count": 18,
   "metadata": {
    "collapsed": false
   },
   "outputs": [],
   "source": [
    "scenes=[['scene{}'.format(j+1+i*n) for j in range(n)] for i in range(m)]"
   ]
  },
  {
   "cell_type": "code",
   "execution_count": 19,
   "metadata": {
    "collapsed": false
   },
   "outputs": [],
   "source": [
    "axis = dict(\n",
    "showbackground=True, \n",
    "backgroundcolor=\"rgb(230, 230,230)\",\n",
    "gridcolor=\"rgb(255, 255, 255)\",      \n",
    "zerolinecolor=\"rgb(255, 255, 255)\", \n",
    "tickfont=dict(size=11)    \n",
    "    )\n",
    "\n",
    "\n",
    "scene=Scene(xaxis=XAxis(axis),\n",
    "                     yaxis=YAxis(axis), \n",
    "                     zaxis=ZAxis(axis), \n",
    "                     aspectratio=dict(x=1,\n",
    "                                      y=1,\n",
    "                                      z=0.25\n",
    "                                     )\n",
    "            )"
   ]
  },
  {
   "cell_type": "code",
   "execution_count": 20,
   "metadata": {
    "collapsed": false
   },
   "outputs": [],
   "source": [
    "cmap=cmocean.cm.bathy\n",
    "\n",
    "for i in range(m):\n",
    "    for j in range(n):\n",
    "        X=st.dirichlet(np.array(alpha[i][j]))\n",
    "        C=[X.pdf(baric_coords[k]) for k in range(len(baric_coords)) ]\n",
    "        zmax=max(C)\n",
    "        trace=plotly_trisurf(triangul.x, triangul.y, C, triangul.triangles,  cmap, scene=scenes[i][j])\n",
    "        fig.append_trace(trace, i+1, j+1)\n",
    "        fig['layout'][scenes[i][j]].update(scene)\n",
    "        fig['layout'][scenes[i][j]]['zaxis'].update(tickvals=[round(zmax/2,1), round(zmax,1)])\n",
    "        \n",
    "fig['layout'].update(title='Dirichlet distribution over an open 2-simplex'+\n",
    "                     '<br> alpha=(1.3, 1.3, 1.3), (3, 3, 3), (7, 7, 7), '+\n",
    "                     '<br>(2, 6, 11), (14, 9, 5), (6, 2, 6) ', \n",
    "                     font=dict(family='Georgia, serif',\n",
    "                               size=14),\n",
    "                     margin=dict(t=135),\n",
    "                     height=900, \n",
    "                     width=1000, \n",
    "                     showlegend=False,\n",
    "                    )"
   ]
  },
  {
   "cell_type": "code",
   "execution_count": null,
   "metadata": {
    "collapsed": false
   },
   "outputs": [],
   "source": [
    "py.sign_in('empet', 'my_api_key')\n",
    "py.plot(fig, filename='Dirichlet-distr')"
   ]
  },
  {
   "cell_type": "code",
   "execution_count": 12,
   "metadata": {
    "collapsed": false
   },
   "outputs": [
    {
     "data": {
      "text/html": [
       "<iframe src=https://plot.ly/~empet/13886/ width=900 height=700></iframe>"
      ],
      "text/plain": [
       "<IPython.core.display.HTML object>"
      ]
     },
     "execution_count": 12,
     "metadata": {},
     "output_type": "execute_result"
    }
   ],
   "source": [
    "from IPython.display import HTML\n",
    "HTML('<iframe src=https://plot.ly/~empet/13886/ width=900 height=700></iframe>')"
   ]
  },
  {
   "cell_type": "code",
   "execution_count": 13,
   "metadata": {
    "collapsed": false
   },
   "outputs": [
    {
     "data": {
      "text/html": [
       "<style>\n",
       "    /*body {\n",
       "        background-color: #F5F5F5;\n",
       "    }*/\n",
       "    div.cell{\n",
       "        width: 900px;\n",
       "        margin-left: 13% !important;\n",
       "        margin-right: auto;\n",
       "    }\n",
       "    #notebook li { /* More space between bullet points */\n",
       "    margin-top:0.8em;\n",
       "    }\n",
       "\n",
       "    h1 {\n",
       "        font-family: 'Alegreya Sans', sans-serif;\n",
       "    }\n",
       "    .text_cell_render h1 {\n",
       "        font-weight: 200;\n",
       "        font-size: 40pt;\n",
       "        line-height: 100%;\n",
       "        color: rgb(8, 66, 133);\n",
       "        margin-bottom: 0em;\n",
       "        margin-top: 0em;\n",
       "        display: block;\n",
       "    }\n",
       "    h2 {\n",
       "        font-family: 'Fenix', serif;\n",
       "        text-indent:1em;\n",
       "        text-align:center;\n",
       "    }\n",
       "    .text_cell_render h2 {\n",
       "        font-weight: 200;\n",
       "        font-size: 28pt;\n",
       "        line-height: 100%;\n",
       "        color: rgb(8, 66, 133);\n",
       "        margin-bottom: 1.5em;\n",
       "        margin-top: 0.5em;\n",
       "        display: block;\n",
       "    }\n",
       "    h3 {\n",
       "        font-family: 'Fenix', serif;\n",
       "        %margin-top:12px;\n",
       "        %margin-bottom: 3px;\n",
       "    }\n",
       "    .text_cell_render h3 {\n",
       "        font-weight: 300;\n",
       "        font-size: 18pt;\n",
       "        line-height: 100%;\n",
       "        color: rgb(8, 66, 133);\n",
       "        margin-bottom: 0.5em;\n",
       "        margin-top: 2em;\n",
       "        display: block;\n",
       "    }\n",
       "    h4 {\n",
       "        font-family: 'Fenix', serif;\n",
       "    }\n",
       "    .text_cell_render h4 {\n",
       "        font-weight: 300;\n",
       "        font-size: 16pt;\n",
       "        color: rgb(8, 66, 133);\n",
       "        margin-bottom: 0.5em;\n",
       "        margin-top: 0.5em;\n",
       "        display: block;\n",
       "    }\n",
       "    h5 {\n",
       "        font-family: 'Alegreya Sans', sans-serif;\n",
       "    }\n",
       "    .text_cell_render h5 {\n",
       "        font-weight: 300;\n",
       "        font-style: normal;\n",
       "        font-size: 16pt;\n",
       "        margin-bottom: 0em;\n",
       "        margin-top: 1.5em;\n",
       "        display: block;\n",
       "        }\n",
       "    div.text_cell_render{\n",
       "        font-family: 'Alegreya Sans',Computer Modern, \"Helvetica Neue\", Arial, Helvetica, Geneva, sans-serif;\n",
       "        line-height: 145%;\n",
       "        font-size: 130%;\n",
       "        width:900px;\n",
       "        margin-left:auto;\n",
       "        margin-right:auto;\n",
       "        %text-align:justify;\n",
       "        %text-justify:inter-word;\n",
       "    }\n",
       "    \n",
       "    \n",
       "    code{\n",
       "      font-size: 78%;\n",
       "    }\n",
       "    .rendered_html code{\n",
       "        background-color: transparent;\n",
       "        white-space: inherit;   \n",
       "    }\n",
       "    .prompt{\n",
       "        display: None;\n",
       "     }\n",
       "    .rendered_html code{\n",
       "    background-color: transparent;\n",
       "    }\n",
       "\n",
       "    blockquote{\n",
       "      display:block;\n",
       "      background: #f3f3f3;\n",
       "      font-family: \"Open sans\",verdana,arial,sans-serif;\n",
       "      width:610px;\n",
       "      padding: 15px 15px 15px 15px;\n",
       "      text-align:justify;\n",
       "      text-justify:inter-word;\n",
       "      }\n",
       "      blockquote p {\n",
       "        margin-bottom: 0;\n",
       "        line-height: 125%;\n",
       "        font-size: 100%;\n",
       "      }\n",
       "   /* element.style {\n",
       "    } */\n",
       "</style>\n",
       "<script>\n",
       "    MathJax.Hub.Config({\n",
       "                        TeX: {\n",
       "                           extensions: [\"AMSmath.js\"]\n",
       "                           },\n",
       "                tex2jax: {\n",
       "                    inlineMath: [ [\"$\",\"$\"], [\"\\\\(\",\"\\\\)\"] ],\n",
       "                    displayMath: [ [\"$$\",\"$$\"], [\"\\\\[\",\"\\\\]\"] ]\n",
       "                },\n",
       "                displayAlign: \"center\", // Change this to \"center\" to center equations.\n",
       "                \"HTML-CSS\": {\n",
       "                    styles: {\".MathJax_Display\": {\"margin\": 4}}\n",
       "                }\n",
       "        });\n",
       "</script>\n"
      ],
      "text/plain": [
       "<IPython.core.display.HTML object>"
      ]
     },
     "execution_count": 13,
     "metadata": {},
     "output_type": "execute_result"
    }
   ],
   "source": [
    "from IPython.core.display import HTML\n",
    "def  css_styling():\n",
    "    styles = open(\"./custom.css\", \"r\").read()\n",
    "    return HTML(styles)\n",
    "css_styling()\n"
   ]
  }
 ],
 "metadata": {
  "kernelspec": {
   "display_name": "Python 2",
   "language": "python",
   "name": "python2"
  },
  "language_info": {
   "codemirror_mode": {
    "name": "ipython",
    "version": 2
   },
   "file_extension": ".py",
   "mimetype": "text/x-python",
   "name": "python",
   "nbconvert_exporter": "python",
   "pygments_lexer": "ipython2",
   "version": "2.7.11"
  }
 },
 "nbformat": 4,
 "nbformat_minor": 0
}
