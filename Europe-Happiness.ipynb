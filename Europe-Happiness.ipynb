{
 "cells": [
  {
   "cell_type": "markdown",
   "metadata": {
    "deletable": true,
    "editable": true
   },
   "source": [
    "## Europe Happiness ##"
   ]
  },
  {
   "cell_type": "markdown",
   "metadata": {
    "deletable": true,
    "editable": true
   },
   "source": [
    "Anticipation of happiness, Oil painting on canvas, by Leonid Afremov:"
   ]
  },
  {
   "cell_type": "code",
   "execution_count": 2,
   "metadata": {
    "collapsed": false,
    "deletable": true,
    "editable": true
   },
   "outputs": [
    {
     "data": {
      "text/html": [
       "<img src=\"https://afremov.com/image.php?type=P&id=18696\"/>"
      ],
      "text/plain": [
       "<IPython.core.display.Image object>"
      ]
     },
     "execution_count": 2,
     "metadata": {},
     "output_type": "execute_result"
    }
   ],
   "source": [
    "from IPython.display import Image\n",
    "Image(url='https://afremov.com/image.php?type=P&id=18696')"
   ]
  },
  {
   "cell_type": "markdown",
   "metadata": {
    "deletable": true,
    "editable": true
   },
   "source": [
    "In this notebook we visualize Europe country happiness scores. Data are retrieved  from [World Happiness Report 2016](http://worldhappiness.report/wp-content/uploads/sites/2/2016/03/HR-V1_web.pdf).\n"
   ]
  },
  {
   "cell_type": "code",
   "execution_count": 3,
   "metadata": {
    "collapsed": true,
    "deletable": true,
    "editable": true
   },
   "outputs": [],
   "source": [
    "import numpy as np\n",
    "import pandas as pd\n",
    "import matplotlib.cm as cm"
   ]
  },
  {
   "cell_type": "code",
   "execution_count": 4,
   "metadata": {
    "collapsed": false,
    "deletable": true,
    "editable": true
   },
   "outputs": [
    {
     "data": {
      "text/html": [
       "<div>\n",
       "<table border=\"1\" class=\"dataframe\">\n",
       "  <thead>\n",
       "    <tr style=\"text-align: right;\">\n",
       "      <th></th>\n",
       "      <th>Country</th>\n",
       "      <th>World-Rank</th>\n",
       "      <th>Score</th>\n",
       "    </tr>\n",
       "  </thead>\n",
       "  <tbody>\n",
       "    <tr>\n",
       "      <th>0</th>\n",
       "      <td>Denmark</td>\n",
       "      <td>1</td>\n",
       "      <td>7.526</td>\n",
       "    </tr>\n",
       "    <tr>\n",
       "      <th>1</th>\n",
       "      <td>Switzerland</td>\n",
       "      <td>2</td>\n",
       "      <td>7.509</td>\n",
       "    </tr>\n",
       "    <tr>\n",
       "      <th>2</th>\n",
       "      <td>Iceland</td>\n",
       "      <td>3</td>\n",
       "      <td>7.501</td>\n",
       "    </tr>\n",
       "    <tr>\n",
       "      <th>3</th>\n",
       "      <td>Norway</td>\n",
       "      <td>4</td>\n",
       "      <td>7.498</td>\n",
       "    </tr>\n",
       "    <tr>\n",
       "      <th>4</th>\n",
       "      <td>Finland</td>\n",
       "      <td>5</td>\n",
       "      <td>7.413</td>\n",
       "    </tr>\n",
       "    <tr>\n",
       "      <th>5</th>\n",
       "      <td>Netherlands</td>\n",
       "      <td>7</td>\n",
       "      <td>7.339</td>\n",
       "    </tr>\n",
       "    <tr>\n",
       "      <th>6</th>\n",
       "      <td>Sweden</td>\n",
       "      <td>10</td>\n",
       "      <td>7.291</td>\n",
       "    </tr>\n",
       "    <tr>\n",
       "      <th>7</th>\n",
       "      <td>Israel</td>\n",
       "      <td>11</td>\n",
       "      <td>7.267</td>\n",
       "    </tr>\n",
       "    <tr>\n",
       "      <th>8</th>\n",
       "      <td>Austria</td>\n",
       "      <td>12</td>\n",
       "      <td>7.119</td>\n",
       "    </tr>\n",
       "    <tr>\n",
       "      <th>9</th>\n",
       "      <td>Germany</td>\n",
       "      <td>16</td>\n",
       "      <td>6.994</td>\n",
       "    </tr>\n",
       "    <tr>\n",
       "      <th>10</th>\n",
       "      <td>Belgium</td>\n",
       "      <td>18</td>\n",
       "      <td>6.929</td>\n",
       "    </tr>\n",
       "    <tr>\n",
       "      <th>11</th>\n",
       "      <td>Ireland</td>\n",
       "      <td>19</td>\n",
       "      <td>6.907</td>\n",
       "    </tr>\n",
       "    <tr>\n",
       "      <th>12</th>\n",
       "      <td>Luxembourg</td>\n",
       "      <td>20</td>\n",
       "      <td>6.871</td>\n",
       "    </tr>\n",
       "    <tr>\n",
       "      <th>13</th>\n",
       "      <td>United Kingdom</td>\n",
       "      <td>23</td>\n",
       "      <td>6.725</td>\n",
       "    </tr>\n",
       "    <tr>\n",
       "      <th>14</th>\n",
       "      <td>Czech Republic</td>\n",
       "      <td>27</td>\n",
       "      <td>6.596</td>\n",
       "    </tr>\n",
       "    <tr>\n",
       "      <th>15</th>\n",
       "      <td>Malta</td>\n",
       "      <td>30</td>\n",
       "      <td>6.488</td>\n",
       "    </tr>\n",
       "    <tr>\n",
       "      <th>16</th>\n",
       "      <td>France</td>\n",
       "      <td>32</td>\n",
       "      <td>6.478</td>\n",
       "    </tr>\n",
       "    <tr>\n",
       "      <th>17</th>\n",
       "      <td>Spain</td>\n",
       "      <td>37</td>\n",
       "      <td>6.361</td>\n",
       "    </tr>\n",
       "    <tr>\n",
       "      <th>18</th>\n",
       "      <td>Slovakia</td>\n",
       "      <td>45</td>\n",
       "      <td>6.078</td>\n",
       "    </tr>\n",
       "    <tr>\n",
       "      <th>19</th>\n",
       "      <td>Uzbekistan</td>\n",
       "      <td>49</td>\n",
       "      <td>5.987</td>\n",
       "    </tr>\n",
       "    <tr>\n",
       "      <th>20</th>\n",
       "      <td>Italy</td>\n",
       "      <td>50</td>\n",
       "      <td>5.977</td>\n",
       "    </tr>\n",
       "    <tr>\n",
       "      <th>21</th>\n",
       "      <td>Kazakhstan</td>\n",
       "      <td>54</td>\n",
       "      <td>5.919</td>\n",
       "    </tr>\n",
       "    <tr>\n",
       "      <th>22</th>\n",
       "      <td>Moldova</td>\n",
       "      <td>55</td>\n",
       "      <td>5.897</td>\n",
       "    </tr>\n",
       "    <tr>\n",
       "      <th>23</th>\n",
       "      <td>Russia</td>\n",
       "      <td>56</td>\n",
       "      <td>5.856</td>\n",
       "    </tr>\n",
       "    <tr>\n",
       "      <th>24</th>\n",
       "      <td>Poland</td>\n",
       "      <td>57</td>\n",
       "      <td>5.835</td>\n",
       "    </tr>\n",
       "    <tr>\n",
       "      <th>25</th>\n",
       "      <td>Lithuania</td>\n",
       "      <td>60</td>\n",
       "      <td>5.813</td>\n",
       "    </tr>\n",
       "    <tr>\n",
       "      <th>26</th>\n",
       "      <td>Belarus</td>\n",
       "      <td>61</td>\n",
       "      <td>5.802</td>\n",
       "    </tr>\n",
       "    <tr>\n",
       "      <th>27</th>\n",
       "      <td>North Cyprus</td>\n",
       "      <td>62</td>\n",
       "      <td>5.771</td>\n",
       "    </tr>\n",
       "    <tr>\n",
       "      <th>28</th>\n",
       "      <td>Slovenia</td>\n",
       "      <td>63</td>\n",
       "      <td>5.768</td>\n",
       "    </tr>\n",
       "    <tr>\n",
       "      <th>29</th>\n",
       "      <td>Latvia</td>\n",
       "      <td>68</td>\n",
       "      <td>5.560</td>\n",
       "    </tr>\n",
       "    <tr>\n",
       "      <th>30</th>\n",
       "      <td>Cyprus</td>\n",
       "      <td>69</td>\n",
       "      <td>5.546</td>\n",
       "    </tr>\n",
       "    <tr>\n",
       "      <th>31</th>\n",
       "      <td>Romania</td>\n",
       "      <td>71</td>\n",
       "      <td>5.528</td>\n",
       "    </tr>\n",
       "    <tr>\n",
       "      <th>32</th>\n",
       "      <td>Estonia</td>\n",
       "      <td>72</td>\n",
       "      <td>5.517</td>\n",
       "    </tr>\n",
       "    <tr>\n",
       "      <th>33</th>\n",
       "      <td>Croatia</td>\n",
       "      <td>74</td>\n",
       "      <td>5.488</td>\n",
       "    </tr>\n",
       "    <tr>\n",
       "      <th>34</th>\n",
       "      <td>Kosovo</td>\n",
       "      <td>77</td>\n",
       "      <td>5.401</td>\n",
       "    </tr>\n",
       "    <tr>\n",
       "      <th>35</th>\n",
       "      <td>Turkey</td>\n",
       "      <td>78</td>\n",
       "      <td>5.389</td>\n",
       "    </tr>\n",
       "    <tr>\n",
       "      <th>36</th>\n",
       "      <td>Azerbaijan</td>\n",
       "      <td>81</td>\n",
       "      <td>5.291</td>\n",
       "    </tr>\n",
       "    <tr>\n",
       "      <th>37</th>\n",
       "      <td>Serbia</td>\n",
       "      <td>86</td>\n",
       "      <td>5.177</td>\n",
       "    </tr>\n",
       "    <tr>\n",
       "      <th>38</th>\n",
       "      <td>Bosnia and Herzegovina</td>\n",
       "      <td>87</td>\n",
       "      <td>5.163</td>\n",
       "    </tr>\n",
       "    <tr>\n",
       "      <th>39</th>\n",
       "      <td>Montenegro</td>\n",
       "      <td>88</td>\n",
       "      <td>5.161</td>\n",
       "    </tr>\n",
       "    <tr>\n",
       "      <th>40</th>\n",
       "      <td>Hungary</td>\n",
       "      <td>91</td>\n",
       "      <td>5.145</td>\n",
       "    </tr>\n",
       "    <tr>\n",
       "      <th>41</th>\n",
       "      <td>Portugal</td>\n",
       "      <td>94</td>\n",
       "      <td>5.123</td>\n",
       "    </tr>\n",
       "    <tr>\n",
       "      <th>42</th>\n",
       "      <td>Macedonia</td>\n",
       "      <td>95</td>\n",
       "      <td>5.121</td>\n",
       "    </tr>\n",
       "    <tr>\n",
       "      <th>43</th>\n",
       "      <td>Greece</td>\n",
       "      <td>99</td>\n",
       "      <td>5.033</td>\n",
       "    </tr>\n",
       "    <tr>\n",
       "      <th>44</th>\n",
       "      <td>Albania</td>\n",
       "      <td>109</td>\n",
       "      <td>4.655</td>\n",
       "    </tr>\n",
       "    <tr>\n",
       "      <th>45</th>\n",
       "      <td>Armenia</td>\n",
       "      <td>121</td>\n",
       "      <td>4.360</td>\n",
       "    </tr>\n",
       "    <tr>\n",
       "      <th>46</th>\n",
       "      <td>Ukraine</td>\n",
       "      <td>123</td>\n",
       "      <td>4.324</td>\n",
       "    </tr>\n",
       "    <tr>\n",
       "      <th>47</th>\n",
       "      <td>Georgia</td>\n",
       "      <td>126</td>\n",
       "      <td>4.252</td>\n",
       "    </tr>\n",
       "    <tr>\n",
       "      <th>48</th>\n",
       "      <td>Bulgaria</td>\n",
       "      <td>129</td>\n",
       "      <td>4.217</td>\n",
       "    </tr>\n",
       "  </tbody>\n",
       "</table>\n",
       "</div>"
      ],
      "text/plain": [
       "                   Country  World-Rank  Score\n",
       "0                  Denmark           1  7.526\n",
       "1              Switzerland           2  7.509\n",
       "2                  Iceland           3  7.501\n",
       "3                   Norway           4  7.498\n",
       "4                  Finland           5  7.413\n",
       "5              Netherlands           7  7.339\n",
       "6                   Sweden          10  7.291\n",
       "7                   Israel          11  7.267\n",
       "8                  Austria          12  7.119\n",
       "9                  Germany          16  6.994\n",
       "10                 Belgium          18  6.929\n",
       "11                 Ireland          19  6.907\n",
       "12              Luxembourg          20  6.871\n",
       "13          United Kingdom          23  6.725\n",
       "14          Czech Republic          27  6.596\n",
       "15                   Malta          30  6.488\n",
       "16                  France          32  6.478\n",
       "17                   Spain          37  6.361\n",
       "18                Slovakia          45  6.078\n",
       "19              Uzbekistan          49  5.987\n",
       "20                   Italy          50  5.977\n",
       "21              Kazakhstan          54  5.919\n",
       "22                 Moldova          55  5.897\n",
       "23                  Russia          56  5.856\n",
       "24                  Poland          57  5.835\n",
       "25               Lithuania          60  5.813\n",
       "26                 Belarus          61  5.802\n",
       "27            North Cyprus          62  5.771\n",
       "28                Slovenia          63  5.768\n",
       "29                  Latvia          68  5.560\n",
       "30                  Cyprus          69  5.546\n",
       "31                 Romania          71  5.528\n",
       "32                 Estonia          72  5.517\n",
       "33                 Croatia          74  5.488\n",
       "34                  Kosovo          77  5.401\n",
       "35                  Turkey          78  5.389\n",
       "36              Azerbaijan          81  5.291\n",
       "37                  Serbia          86  5.177\n",
       "38  Bosnia and Herzegovina          87  5.163\n",
       "39              Montenegro          88  5.161\n",
       "40                 Hungary          91  5.145\n",
       "41                Portugal          94  5.123\n",
       "42               Macedonia          95  5.121\n",
       "43                  Greece          99  5.033\n",
       "44                 Albania         109  4.655\n",
       "45                 Armenia         121  4.360\n",
       "46                 Ukraine         123  4.324\n",
       "47                 Georgia         126  4.252\n",
       "48                Bulgaria         129  4.217"
      ]
     },
     "execution_count": 4,
     "metadata": {},
     "output_type": "execute_result"
    }
   ],
   "source": [
    "df=pd.read_excel('Europe-Happiness.xlsx')\n",
    "df"
   ]
  },
  {
   "cell_type": "code",
   "execution_count": 5,
   "metadata": {
    "collapsed": true,
    "deletable": true,
    "editable": true
   },
   "outputs": [],
   "source": [
    "N=len(df)"
   ]
  },
  {
   "cell_type": "code",
   "execution_count": 6,
   "metadata": {
    "collapsed": false,
    "deletable": true,
    "editable": true
   },
   "outputs": [],
   "source": [
    "score=df['Score'].values\n",
    "country=list(df.Country)\n",
    "country[13]='U Kingdom'\n",
    "country[14]='Czech Rep'\n",
    "country[38]='Bosn Herzeg'\n",
    "world_rk=list(df['World-Rank'])"
   ]
  },
  {
   "cell_type": "code",
   "execution_count": 7,
   "metadata": {
    "collapsed": true,
    "deletable": true,
    "editable": true
   },
   "outputs": [],
   "source": [
    "import plotly.plotly as py\n",
    "from plotly.graph_objs import *"
   ]
  },
  {
   "cell_type": "markdown",
   "metadata": {
    "deletable": true,
    "editable": true
   },
   "source": [
    "Function that maps a normalized happiness score to a color in the chosen colormap:"
   ]
  },
  {
   "cell_type": "code",
   "execution_count": 8,
   "metadata": {
    "collapsed": true,
    "deletable": true,
    "editable": true
   },
   "outputs": [],
   "source": [
    "def map_z2color(val, colormap, vmin, vmax):\n",
    "    #map the normalized value val to a corresponding color in the mpl colormap\n",
    "    \n",
    "    if vmin>=vmax:\n",
    "        raise ValueError('incorrect relation between vmin and vmax')\n",
    "    t=(val-vmin)/float((vmax-vmin))#normalize val\n",
    "    C=map(np.uint8, np.array(colormap(t)[:3])*255)\n",
    "    #convert to a Plotly color code:\n",
    "    return 'rgb'+str((C[0], C[1], C[2]))\n",
    "       \n",
    "    "
   ]
  },
  {
   "cell_type": "code",
   "execution_count": 9,
   "metadata": {
    "collapsed": false,
    "deletable": true,
    "editable": true
   },
   "outputs": [],
   "source": [
    "def set_layout(title, plot_size):# set plot layout\n",
    "    axis=dict(showline=False, \n",
    "              zeroline=False,\n",
    "              showgrid=False,\n",
    "              showticklabels=False,\n",
    "              title='' \n",
    "             )\n",
    "\n",
    "    return Layout(title=title,\n",
    "                  font=Font(size=12), \n",
    "                  xaxis=XAxis(axis, range=[-3.5, 4]),\n",
    "                  yaxis=YAxis(axis, range=[-4.5, 3.5]),\n",
    "                  showlegend=False,\n",
    "                  width=plot_size,\n",
    "                  height=plot_size,\n",
    "                  hovermode='closest',\n",
    "                  annotations=[]        \n",
    "                 )  "
   ]
  },
  {
   "cell_type": "code",
   "execution_count": 10,
   "metadata": {
    "collapsed": true,
    "deletable": true,
    "editable": true
   },
   "outputs": [],
   "source": [
    "def set_annotation(x, y, anno_text,  angle, fontsize=11): # annotations\n",
    "    return Annotation(x= x,  \n",
    "                      y= y,       \n",
    "                      text= anno_text,      \n",
    "                      textangle=angle, # angle in degrees \n",
    "                      font= Font(size=fontsize),  \n",
    "                      showarrow=False     \n",
    "                     ) "
   ]
  },
  {
   "cell_type": "markdown",
   "metadata": {
    "deletable": true,
    "editable": true
   },
   "source": [
    "We visualize Europe country happiness through a circular barchart. The height of each bar is proportional to the corresponding happiness score:"
   ]
  },
  {
   "cell_type": "code",
   "execution_count": 11,
   "metadata": {
    "collapsed": false,
    "deletable": true,
    "editable": true
   },
   "outputs": [],
   "source": [
    "bar_height=[score[k]/4.75 for k in range(N)]"
   ]
  },
  {
   "cell_type": "markdown",
   "metadata": {
    "deletable": true,
    "editable": true
   },
   "source": [
    "The bars are inserted along the unit circle, starting with the angular position $\\pi/2$, in the anti-clockwise direction: "
   ]
  },
  {
   "cell_type": "code",
   "execution_count": 12,
   "metadata": {
    "collapsed": true,
    "deletable": true,
    "editable": true
   },
   "outputs": [],
   "source": [
    "theta=[np.pi/2+(2*k+1)*np.pi/72  for k in range(N)]# angular position of base bar centers"
   ]
  },
  {
   "cell_type": "code",
   "execution_count": 13,
   "metadata": {
    "collapsed": false,
    "deletable": true,
    "editable": true
   },
   "outputs": [],
   "source": [
    "xi=[np.cos(theta[k]) for k in range(N)]# starting bar position\n",
    "yi=[np.sin(theta[k]) for k in range(N)]\n",
    "\n",
    "\n",
    "xf=[(bar_height[k]+1)*np.cos(theta[k]) for k in range(N)]#end bar position\n",
    "yf=[(bar_height[k]+1)*np.sin(theta[k]) for k in range(N)]\n",
    "\n",
    "xm=[(xi[k]+xf[k])*0.5   for k in range(N)]#mid bar position for inserting hovering text\n",
    "ym=[(yi[k]+yf[k])*0.5   for k in range(N)]\n",
    "\n",
    "xpos_t=[(bar_height[k]+1.32)*np.cos(theta[k]) for k in range(N)]#text position\n",
    "ypos_t=[(bar_height[k]+1.32)*np.sin(theta[k]) for k in range(N)]"
   ]
  },
  {
   "cell_type": "markdown",
   "metadata": {
    "deletable": true,
    "editable": true
   },
   "source": [
    "The decreased level of happiness is illustrated through  the Viridis colormap:"
   ]
  },
  {
   "cell_type": "code",
   "execution_count": 14,
   "metadata": {
    "collapsed": false,
    "deletable": true,
    "editable": true
   },
   "outputs": [],
   "source": [
    "import matplotlib.cm as cm\n",
    "cmap=cm.viridis"
   ]
  },
  {
   "cell_type": "code",
   "execution_count": 15,
   "metadata": {
    "collapsed": false,
    "deletable": true,
    "editable": true
   },
   "outputs": [],
   "source": [
    "vmin=score[-1]\n",
    "vmax=score[0]\n",
    "bar_colors=[map_z2color(score[k], cmap, score[-1], score[0]) for k in range(N)]"
   ]
  },
  {
   "cell_type": "markdown",
   "metadata": {
    "deletable": true,
    "editable": true
   },
   "source": [
    "Define the hover text:"
   ]
  },
  {
   "cell_type": "code",
   "execution_count": 16,
   "metadata": {
    "collapsed": true,
    "deletable": true,
    "editable": true
   },
   "outputs": [],
   "source": [
    "text=[country[k]+'<br>Score: '+'{:0.3f}'.format(score[k])+'<br>World rank: ' \n",
    "      +'{:d}'.format(world_rk[k])  for  k in range(len(score))]"
   ]
  },
  {
   "cell_type": "markdown",
   "metadata": {
    "deletable": true,
    "editable": true
   },
   "source": [
    "Set position of the hover text inside bars:"
   ]
  },
  {
   "cell_type": "code",
   "execution_count": 17,
   "metadata": {
    "collapsed": false,
    "deletable": true,
    "editable": true
   },
   "outputs": [],
   "source": [
    "trace=Scatter(x=xm,\n",
    "              y=ym,\n",
    "              name='',\n",
    "              mode='markers' ,\n",
    "              marker=dict(size=0.05, color=bar_colors[15]),\n",
    "              text=text,\n",
    "              hoverinfo='text')\n",
    "tracet=Scatter(x=xf,\n",
    "               y=yf,\n",
    "               name='',\n",
    "               mode='markers' ,\n",
    "               marker=dict(size=0.05, color=bar_colors[15]), \n",
    "               text=text,\n",
    "               hoverinfo='text')"
   ]
  },
  {
   "cell_type": "code",
   "execution_count": 18,
   "metadata": {
    "collapsed": false,
    "deletable": true,
    "editable": true
   },
   "outputs": [],
   "source": [
    "traceB=[Scatter(x=[xi[k], xf[k], None], # Circular bars are drawn as lines of width 9\n",
    "                y=[yi[k], yf[k], None], \n",
    "                mode='lines', \n",
    "                line=dict(color=bar_colors[k], width=9.6),\n",
    "                hoverinfo='none')  \n",
    "        for k in range(N)]\n"
   ]
  },
  {
   "cell_type": "code",
   "execution_count": 19,
   "metadata": {
    "collapsed": true,
    "deletable": true,
    "editable": true
   },
   "outputs": [],
   "source": [
    "title=\"Europe Happiness Score and Global Ranking\"+\\\n",
    "\"<br>Data: World Happiness Report, 2016\"+\\\n",
    "\"<a href='http://worldhappiness.report/wp-content/uploads/sites/2/2016/03/HR-V1_web.pdf'> [1]</a>\"\n",
    "layout=set_layout('', 1000)"
   ]
  },
  {
   "cell_type": "code",
   "execution_count": 20,
   "metadata": {
    "collapsed": true,
    "deletable": true,
    "editable": true
   },
   "outputs": [],
   "source": [
    "annotext_angle=[(-(180*np.arctan(yi[k]/xi[k])/np.pi)) for k in range(N)]# angles in degrees, computed following \n",
    "                                                                        #Plotly reversed trigonometric rule"
   ]
  },
  {
   "cell_type": "markdown",
   "metadata": {
    "deletable": true,
    "editable": true
   },
   "source": [
    "Insert annotations:"
   ]
  },
  {
   "cell_type": "code",
   "execution_count": 21,
   "metadata": {
    "collapsed": false,
    "deletable": true,
    "editable": true
   },
   "outputs": [],
   "source": [
    "for k in range(N):\n",
    "    layout['annotations']+=[set_annotation(xpos_t[k], ypos_t[k], country[k],  annotext_angle[k],  fontsize=10)]\n",
    "layout['annotations']+=[set_annotation(0.5, 0.1, title, 0 ) ]    "
   ]
  },
  {
   "cell_type": "code",
   "execution_count": 22,
   "metadata": {
    "collapsed": false,
    "deletable": true,
    "editable": true
   },
   "outputs": [
    {
     "data": {
      "text/html": [
       "<iframe id=\"igraph\" scrolling=\"no\" style=\"border:none;\" seamless=\"seamless\" src=\"https://plot.ly/~empet/13870.embed\" height=\"1000px\" width=\"1000px\"></iframe>"
      ],
      "text/plain": [
       "<plotly.tools.PlotlyDisplay object>"
      ]
     },
     "execution_count": 22,
     "metadata": {},
     "output_type": "execute_result"
    }
   ],
   "source": [
    "fig=Figure(data=Data(traceB+[trace, tracet]), layout=layout)\n",
    "py.sign_in('empet', 'api_key')\n",
    "py.iplot(fig, filename='Europe-Happiness')"
   ]
  },
  {
   "cell_type": "code",
   "execution_count": 23,
   "metadata": {
    "collapsed": false,
    "deletable": true,
    "editable": true
   },
   "outputs": [
    {
     "data": {
      "text/html": [
       "<style>\n",
       "    /*body {\n",
       "        background-color: #F5F5F5;\n",
       "    }*/\n",
       "    div.cell{\n",
       "        width: 900px;\n",
       "        margin-left: 13% !important;\n",
       "        margin-right: auto;\n",
       "    }\n",
       "    #notebook li { /* More space between bullet points */\n",
       "    margin-top:0.8em;\n",
       "    }\n",
       "\n",
       "    h1 {\n",
       "        font-family: 'Alegreya Sans', sans-serif;\n",
       "    }\n",
       "    .text_cell_render h1 {\n",
       "        font-weight: 200;\n",
       "        font-size: 40pt;\n",
       "        line-height: 100%;\n",
       "        color: rgb(8, 66, 133);\n",
       "        margin-bottom: 0em;\n",
       "        margin-top: 0em;\n",
       "        display: block;\n",
       "    }\n",
       "    h2 {\n",
       "        font-family: 'Fenix', serif;\n",
       "        text-indent:1em;\n",
       "        text-align:center;\n",
       "    }\n",
       "    .text_cell_render h2 {\n",
       "        font-weight: 200;\n",
       "        font-size: 28pt;\n",
       "        line-height: 100%;\n",
       "        color: rgb(8, 66, 133);\n",
       "        margin-bottom: 1.5em;\n",
       "        margin-top: 0.5em;\n",
       "        display: block;\n",
       "    }\n",
       "    h3 {\n",
       "        font-family: 'Fenix', serif;\n",
       "        %margin-top:12px;\n",
       "        %margin-bottom: 3px;\n",
       "    }\n",
       "    .text_cell_render h3 {\n",
       "        font-weight: 300;\n",
       "        font-size: 18pt;\n",
       "        line-height: 100%;\n",
       "        color: rgb(8, 66, 133);\n",
       "        margin-bottom: 0.5em;\n",
       "        margin-top: 2em;\n",
       "        display: block;\n",
       "    }\n",
       "    h4 {\n",
       "        font-family: 'Fenix', serif;\n",
       "    }\n",
       "    .text_cell_render h4 {\n",
       "        font-weight: 300;\n",
       "        font-size: 16pt;\n",
       "        color: rgb(8, 66, 133);\n",
       "        margin-bottom: 0.5em;\n",
       "        margin-top: 0.5em;\n",
       "        display: block;\n",
       "    }\n",
       "    h5 {\n",
       "        font-family: 'Alegreya Sans', sans-serif;\n",
       "    }\n",
       "    .text_cell_render h5 {\n",
       "        font-weight: 300;\n",
       "        font-style: normal;\n",
       "        font-size: 16pt;\n",
       "        margin-bottom: 0em;\n",
       "        margin-top: 1.5em;\n",
       "        display: block;\n",
       "        }\n",
       "    div.text_cell_render{\n",
       "        font-family: 'Alegreya Sans',Computer Modern, \"Helvetica Neue\", Arial, Helvetica, Geneva, sans-serif;\n",
       "        line-height: 145%;\n",
       "        font-size: 130%;\n",
       "        width:900px;\n",
       "        margin-left:auto;\n",
       "        margin-right:auto;\n",
       "        %text-align:justify;\n",
       "        %text-justify:inter-word;\n",
       "    }\n",
       "    \n",
       "    \n",
       "    code{\n",
       "      font-size: 78%;\n",
       "    }\n",
       "    .rendered_html code{\n",
       "        background-color: transparent;\n",
       "        white-space: inherit;   \n",
       "    }\n",
       "    .prompt{\n",
       "        display: None;\n",
       "     }\n",
       "    .rendered_html code{\n",
       "    background-color: transparent;\n",
       "    }\n",
       "\n",
       "    blockquote{\n",
       "      display:block;\n",
       "      background: #f3f3f3;\n",
       "      font-family: \"Open sans\",verdana,arial,sans-serif;\n",
       "      width:610px;\n",
       "      padding: 15px 15px 15px 15px;\n",
       "      text-align:justify;\n",
       "      text-justify:inter-word;\n",
       "      }\n",
       "      blockquote p {\n",
       "        margin-bottom: 0;\n",
       "        line-height: 125%;\n",
       "        font-size: 100%;\n",
       "      }\n",
       "   /* element.style {\n",
       "    } */\n",
       "</style>\n",
       "<script>\n",
       "    MathJax.Hub.Config({\n",
       "                        TeX: {\n",
       "                           extensions: [\"AMSmath.js\"]\n",
       "                           },\n",
       "                tex2jax: {\n",
       "                    inlineMath: [ [\"$\",\"$\"], [\"\\\\(\",\"\\\\)\"] ],\n",
       "                    displayMath: [ [\"$$\",\"$$\"], [\"\\\\[\",\"\\\\]\"] ]\n",
       "                },\n",
       "                displayAlign: \"center\", // Change this to \"center\" to center equations.\n",
       "                \"HTML-CSS\": {\n",
       "                    styles: {\".MathJax_Display\": {\"margin\": 4}}\n",
       "                }\n",
       "        });\n",
       "</script>\n"
      ],
      "text/plain": [
       "<IPython.core.display.HTML object>"
      ]
     },
     "execution_count": 23,
     "metadata": {},
     "output_type": "execute_result"
    }
   ],
   "source": [
    "from IPython.core.display import HTML\n",
    "def  css_styling():\n",
    "    styles = open(\"./custom.css\", \"r\").read()\n",
    "    return HTML(styles)\n",
    "css_styling()\n"
   ]
  }
 ],
 "metadata": {
  "kernelspec": {
   "display_name": "Python 2",
   "language": "python",
   "name": "python2"
  },
  "language_info": {
   "codemirror_mode": {
    "name": "ipython",
    "version": 2
   },
   "file_extension": ".py",
   "mimetype": "text/x-python",
   "name": "python",
   "nbconvert_exporter": "python",
   "pygments_lexer": "ipython2",
   "version": "2.7.11"
  }
 },
 "nbformat": 4,
 "nbformat_minor": 0
}
