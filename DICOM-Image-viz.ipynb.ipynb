{
    "nbformat_minor": 0, 
    "nbformat": 4, 
    "cells": [
        {
            "source": [
                "## Plotly visualization of DICOM images ##"
            ], 
            "cell_type": "markdown", 
            "metadata": {}
        }, 
        {
            "source": [
                "[DICOM](https://en.wikipedia.org/wiki/DICOM) (Digital Imaging and Communications in Medicine) is a standard for handling, storing, printing, and transmitting information in medical imaging.\n", 
                "\n", 
                "DICOM images have the   extension `dcm`. A DICOM file has two parts: the *header*\n", 
                "and the *dataset*. \n", 
                "The header contains information on the encapsulated dataset. It consists of a File\n", 
                "Preamble, a DICOM prefix, and the File Meta Elements. \n", 
                "\n", 
                "The Python library, `pydicom`, can read and write  `dcm` files: [https://pydicom.readthedocs.io/en/stable/](http://pydicom.readthedocs.io/en/stable/)"
            ], 
            "cell_type": "markdown", 
            "metadata": {}
        }, 
        {
            "source": [
                "Install pydicom via pip:\n", 
                "\n", 
                "`pip install pydicom`"
            ], 
            "cell_type": "markdown", 
            "metadata": {}
        }, 
        {
            "source": [
                "import numpy as np\n", 
                "import dicom"
            ], 
            "cell_type": "code", 
            "metadata": {
                "collapsed": false
            }, 
            "execution_count": 2, 
            "outputs": []
        }, 
        {
            "source": [
                "print dicom.__version__"
            ], 
            "cell_type": "code", 
            "metadata": {
                "collapsed": false
            }, 
            "execution_count": 3, 
            "outputs": [
                {
                    "text": [
                        "0.9.9\n"
                    ], 
                    "name": "stdout", 
                    "output_type": "stream"
                }
            ]
        }, 
        {
            "source": [
                "The `pydicom 1.0` is under development and it will be a major release: [https://groups.google.com/forum/#!topic/pydicom/VJjYXCafUMs]."
            ], 
            "cell_type": "markdown", 
            "metadata": {}
        }, 
        {
            "source": [
                "In this notebook we define functions to read  DICOM files, transform the corresponding image to get the z-value for a heatmap and plot the  heatmap, using the mpl bone colormap/colorscale.\n", 
                "If necessary we  increase the image contrast  applying the   histogram equalization, defined by the following function:"
            ], 
            "cell_type": "markdown", 
            "metadata": {}
        }, 
        {
            "source": [
                "def histogram_equalization(im, no_bins):\n", 
                "    \n", 
                "    #im- the image as a numpy.array\n", 
                "    #the appropriate number of bins, `no_bins` in the histogram is chosen by experiments, \n", 
                "    #until the contrast is convenient\n", 
                "    \n", 
                "    image_hist, bins = np.histogram(im.flatten(), no_bins, normed=True)\n", 
                "    csum = image_hist.cumsum() \n", 
                "    cdf_mult = np.max(im) * csum / csum[-1] # cdf multiplied by a factor\n", 
                "\n", 
                "    #  linear interpolation of cdf_mult to get new pixel values\n", 
                "    im_new = np.interp(im.flatten(), bins[:-1],  cdf_mult)\n", 
                "\n", 
                "    return im_new.reshape(im.shape), cdf_mult"
            ], 
            "cell_type": "code", 
            "metadata": {
                "collapsed": false
            }, 
            "execution_count": 4, 
            "outputs": []
        }, 
        {
            "source": [
                "Define the Plotly colorscale `pl_bone`:"
            ], 
            "cell_type": "markdown", 
            "metadata": {}
        }, 
        {
            "source": [
                "pl_bone=[[0.0, 'rgb(0, 0, 0)'],\n", 
                "         [0.05, 'rgb(10, 10, 14)'],\n", 
                "         [0.1, 'rgb(21, 21, 30)'],\n", 
                "         [0.15, 'rgb(33, 33, 46)'],\n", 
                "         [0.2, 'rgb(44, 44, 62)'],\n", 
                "         [0.25, 'rgb(56, 55, 77)'],\n", 
                "         [0.3, 'rgb(66, 66, 92)'],\n", 
                "         [0.35, 'rgb(77, 77, 108)'],\n", 
                "         [0.4, 'rgb(89, 92, 121)'],\n", 
                "         [0.45, 'rgb(100, 107, 132)'],\n", 
                "         [0.5, 'rgb(112, 123, 143)'],\n", 
                "         [0.55, 'rgb(122, 137, 154)'],\n", 
                "         [0.6, 'rgb(133, 153, 165)'],\n", 
                "         [0.65, 'rgb(145, 169, 177)'],\n", 
                "         [0.7, 'rgb(156, 184, 188)'],\n", 
                "         [0.75, 'rgb(168, 199, 199)'],\n", 
                "         [0.8, 'rgb(185, 210, 210)'],\n", 
                "         [0.85, 'rgb(203, 221, 221)'],\n", 
                "         [0.9, 'rgb(220, 233, 233)'],\n", 
                "         [0.95, 'rgb(238, 244, 244)'],\n", 
                "         [1.0, 'rgb(255, 255, 255)']]"
            ], 
            "cell_type": "code", 
            "metadata": {
                "collapsed": true
            }, 
            "execution_count": 5, 
            "outputs": []
        }, 
        {
            "source": [
                "def get_pl_image(dicom_filename, hist_equal=False, no_bins=None):\n", 
                "    #dicom_filename- a string 'filename.dcm'\n", 
                "    #no_bins is the number of bins for histogram when hist_equal=False, else it is None\n", 
                "    #returns the np.array that defines the z-value for the heatmap representing the dicom image\n", 
                "    \n", 
                "    dic_file=dicom.read_file(dicom_filename)\n", 
                "    img=dic_file.pixel_array#get the image as a numpy.array\n", 
                "    if hist_equal and isinstance(no_bins, int):\n", 
                "        img_new=histogram_equalization(img, no_bins)[0]\n", 
                "        img_new=np.array(img_new, dtype=np.int16)\n", 
                "        return np.flipud(img_new)\n", 
                "    else:\n", 
                "        return np.flipud(img)"
            ], 
            "cell_type": "code", 
            "metadata": {
                "collapsed": true
            }, 
            "execution_count": 6, 
            "outputs": []
        }, 
        {
            "source": [
                "The following function returns the Plotly figure  of the heatmap representing the DICOM image:"
            ], 
            "cell_type": "markdown", 
            "metadata": {}
        }, 
        {
            "source": [
                "def DICOM_heatmap(z, title, width=600, height=600, colorscale=pl_bone):\n", 
                "\n", 
                "    data=[dict(type='heatmap', \n", 
                "           z=z, \n", 
                "           colorscale=colorscale, \n", 
                "           zsmooth='best',\n", 
                "           colorbar=dict(thickness=20, ticklen=4),  \n", 
                "              )\n", 
                "         ]\n", 
                "\n", 
                "    axis=dict(zeroline=False, showgrid=False, ticklen=4)\n", 
                "    layout=dict(width=600, height=600,\n", 
                "            font=dict(family='Balto', size=12),\n", 
                "            xaxis= dict(axis),\n", 
                "            yaxis= dict(axis),\n", 
                "            title= title\n", 
                "            )\n", 
                "    return  dict(data=data, layout=layout)"
            ], 
            "cell_type": "code", 
            "metadata": {
                "collapsed": false
            }, 
            "execution_count": 7, 
            "outputs": []
        }, 
        {
            "source": [
                "Here we plot two DICOM images. Since the second one has a poor contrast we process it through histogram equalization:"
            ], 
            "cell_type": "markdown", 
            "metadata": {}
        }, 
        {
            "source": [
                "import plotly.plotly as py\n", 
                "py.sign_in('empet', 'api_key')\n"
            ], 
            "cell_type": "code", 
            "metadata": {
                "collapsed": false
            }, 
            "execution_count": 12, 
            "outputs": []
        }, 
        {
            "source": [
                "title1=\"Plotly viz of a DICOM medical image<br>\"+\\\n", 
                "\"Data set: <a href='http://www.barre.nom.fr/medical/samples/'>[1]</a>\"\n", 
                "pl_img1=get_pl_image('MR-MONO2-16-head')#this DICOM file has no extension\n", 
                "fig1=DICOM_heatmap(pl_img1, title1)\n", 
                "py.iplot(fig1, filename='DICOM-img-MRIs')"
            ], 
            "cell_type": "code", 
            "metadata": {
                "collapsed": false
            }, 
            "execution_count": 13, 
            "outputs": [
                {
                    "output_type": "execute_result", 
                    "data": {
                        "text/plain": [
                            "<plotly.tools.PlotlyDisplay object>"
                        ], 
                        "text/html": [
                            "<iframe id=\"igraph\" scrolling=\"no\" style=\"border:none;\" seamless=\"seamless\" src=\"https://plot.ly/~empet/14236.embed\" height=\"600px\" width=\"600px\"></iframe>"
                        ]
                    }, 
                    "execution_count": 13, 
                    "metadata": {}
                }
            ]
        }, 
        {
            "source": [
                "title2=\"Plotly viz of a DICOM medical image\"+\\\n", 
                "\"<br>Data set: <a href='http://www.rubomedical.com/dicomfiles/index.html'>[1]</a>\"\n", 
                "pl_img2=get_pl_image('MRBRAIN.DCM', hist_equal=True, no_bins=36)\n", 
                "fig2=DICOM_heatmap(pl_img2, title2)"
            ], 
            "cell_type": "code", 
            "metadata": {
                "collapsed": false
            }, 
            "execution_count": 14, 
            "outputs": []
        }, 
        {
            "source": [
                "py.iplot(fig2, filename='DICOM-MRBRAIN')"
            ], 
            "cell_type": "code", 
            "metadata": {
                "collapsed": false
            }, 
            "execution_count": 15, 
            "outputs": [
                {
                    "output_type": "execute_result", 
                    "data": {
                        "text/plain": [
                            "<plotly.tools.PlotlyDisplay object>"
                        ], 
                        "text/html": [
                            "<iframe id=\"igraph\" scrolling=\"no\" style=\"border:none;\" seamless=\"seamless\" src=\"https://plot.ly/~empet/14238.embed\" height=\"600px\" width=\"600px\"></iframe>"
                        ]
                    }, 
                    "execution_count": 15, 
                    "metadata": {}
                }
            ]
        }, 
        {
            "source": [
                "from IPython.core.display import HTML\n", 
                "def  css_styling():\n", 
                "    styles = open(\"./custom.css\", \"r\").read()\n", 
                "    return HTML(styles)\n", 
                "css_styling()"
            ], 
            "cell_type": "code", 
            "metadata": {
                "collapsed": false
            }, 
            "execution_count": 16, 
            "outputs": [
                {
                    "output_type": "execute_result", 
                    "data": {
                        "text/plain": [
                            "<IPython.core.display.HTML object>"
                        ], 
                        "text/html": [
                            "<style>\n", 
                            "    /*body {\n", 
                            "        background-color: #F5F5F5;\n", 
                            "    }*/\n", 
                            "    div.cell{\n", 
                            "        width: 900px;\n", 
                            "        margin-left: 13% !important;\n", 
                            "        margin-right: auto;\n", 
                            "    }\n", 
                            "    #notebook li { /* More space between bullet points */\n", 
                            "    margin-top:0.8em;\n", 
                            "    }\n", 
                            "\n", 
                            "    h1 {\n", 
                            "        font-family: 'Alegreya Sans', sans-serif;\n", 
                            "    }\n", 
                            "    .text_cell_render h1 {\n", 
                            "        font-weight: 200;\n", 
                            "        font-size: 40pt;\n", 
                            "        line-height: 100%;\n", 
                            "        color: rgb(8, 66, 133);\n", 
                            "        margin-bottom: 0em;\n", 
                            "        margin-top: 0em;\n", 
                            "        display: block;\n", 
                            "    }\n", 
                            "    h2 {\n", 
                            "        font-family: 'Fenix', serif;\n", 
                            "        text-indent:1em;\n", 
                            "        text-align:center;\n", 
                            "    }\n", 
                            "    .text_cell_render h2 {\n", 
                            "        font-weight: 200;\n", 
                            "        font-size: 28pt;\n", 
                            "        line-height: 100%;\n", 
                            "        color: rgb(8, 66, 133);\n", 
                            "        margin-bottom: 1.5em;\n", 
                            "        margin-top: 0.5em;\n", 
                            "        display: block;\n", 
                            "    }\n", 
                            "    h3 {\n", 
                            "        font-family: 'Fenix', serif;\n", 
                            "        %margin-top:12px;\n", 
                            "        %margin-bottom: 3px;\n", 
                            "    }\n", 
                            "    .text_cell_render h3 {\n", 
                            "        font-weight: 300;\n", 
                            "        font-size: 18pt;\n", 
                            "        line-height: 100%;\n", 
                            "        color: rgb(8, 66, 133);\n", 
                            "        margin-bottom: 0.5em;\n", 
                            "        margin-top: 2em;\n", 
                            "        display: block;\n", 
                            "    }\n", 
                            "    h4 {\n", 
                            "        font-family: 'Fenix', serif;\n", 
                            "    }\n", 
                            "    .text_cell_render h4 {\n", 
                            "        font-weight: 300;\n", 
                            "        font-size: 16pt;\n", 
                            "        color: rgb(8, 66, 133);\n", 
                            "        margin-bottom: 0.5em;\n", 
                            "        margin-top: 0.5em;\n", 
                            "        display: block;\n", 
                            "    }\n", 
                            "    h5 {\n", 
                            "        font-family: 'Alegreya Sans', sans-serif;\n", 
                            "    }\n", 
                            "    .text_cell_render h5 {\n", 
                            "        font-weight: 300;\n", 
                            "        font-style: normal;\n", 
                            "        font-size: 16pt;\n", 
                            "        margin-bottom: 0em;\n", 
                            "        margin-top: 1.5em;\n", 
                            "        display: block;\n", 
                            "        }\n", 
                            "    div.text_cell_render{\n", 
                            "        font-family: 'Alegreya Sans',Computer Modern, \"Helvetica Neue\", Arial, Helvetica, Geneva, sans-serif;\n", 
                            "        line-height: 145%;\n", 
                            "        font-size: 130%;\n", 
                            "        width:900px;\n", 
                            "        margin-left:auto;\n", 
                            "        margin-right:auto;\n", 
                            "        %text-align:justify;\n", 
                            "        %text-justify:inter-word;\n", 
                            "    }\n", 
                            "    \n", 
                            "    \n", 
                            "    code{\n", 
                            "      font-size: 78%;\n", 
                            "    }\n", 
                            "    .rendered_html code{\n", 
                            "        background-color: transparent;\n", 
                            "        white-space: inherit;   \n", 
                            "    }\n", 
                            "    .prompt{\n", 
                            "        display: None;\n", 
                            "     }\n", 
                            "    .rendered_html code{\n", 
                            "    background-color: transparent;\n", 
                            "    }\n", 
                            "\n", 
                            "    blockquote{\n", 
                            "      display:block;\n", 
                            "      background: #f3f3f3;\n", 
                            "      font-family: \"Open sans\",verdana,arial,sans-serif;\n", 
                            "      width:610px;\n", 
                            "      padding: 15px 15px 15px 15px;\n", 
                            "      text-align:justify;\n", 
                            "      text-justify:inter-word;\n", 
                            "      }\n", 
                            "      blockquote p {\n", 
                            "        margin-bottom: 0;\n", 
                            "        line-height: 125%;\n", 
                            "        font-size: 100%;\n", 
                            "      }\n", 
                            "   /* element.style {\n", 
                            "    } */\n", 
                            "</style>\n", 
                            "<script>\n", 
                            "    MathJax.Hub.Config({\n", 
                            "                        TeX: {\n", 
                            "                           extensions: [\"AMSmath.js\"]\n", 
                            "                           },\n", 
                            "                tex2jax: {\n", 
                            "                    inlineMath: [ [\"$\",\"$\"], [\"\\\\(\",\"\\\\)\"] ],\n", 
                            "                    displayMath: [ [\"$$\",\"$$\"], [\"\\\\[\",\"\\\\]\"] ]\n", 
                            "                },\n", 
                            "                displayAlign: \"center\", // Change this to \"center\" to center equations.\n", 
                            "                \"HTML-CSS\": {\n", 
                            "                    styles: {\".MathJax_Display\": {\"margin\": 4}}\n", 
                            "                }\n", 
                            "        });\n", 
                            "</script>\n"
                        ]
                    }, 
                    "execution_count": 16, 
                    "metadata": {}
                }
            ]
        }
    ], 
    "metadata": {
        "kernelspec": {
            "display_name": "Python 2", 
            "name": "python2", 
            "language": "python"
        }, 
        "language_info": {
            "mimetype": "text/x-python", 
            "nbconvert_exporter": "python", 
            "name": "python", 
            "pygments_lexer": "ipython2", 
            "version": "2.7.11", 
            "file_extension": ".py", 
            "codemirror_mode": {
                "version": 2, 
                "name": "ipython"
            }
        }
    }
}