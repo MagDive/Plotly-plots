{
 "cells": [
  {
   "cell_type": "markdown",
   "metadata": {},
   "source": [
    "## Arc Diagram of Star Wars Characters that Interacted in The Force Awakens ##"
   ]
  },
  {
   "cell_type": "markdown",
   "metadata": {},
   "source": [
    "[Arc diagram](https://en.wikipedia.org/wiki/Arc_diagram) is a special layout for graphs. It places the nodes on a line and the links are  arcs of circles. Here we\n",
    "plot the arc diagram associated to characters in Stars Wars: The Force Awakens. The nodes are characters. They are colored according to the number of times the corresponding character spoke across the 7th episode of Star Wars.\n",
    " "
   ]
  },
  {
   "cell_type": "code",
   "execution_count": 52,
   "metadata": {
    "collapsed": true
   },
   "outputs": [],
   "source": [
    "import numpy as np\n",
    "import json"
   ]
  },
  {
   "cell_type": "markdown",
   "metadata": {},
   "source": [
    "We use data provided by Evelina Gabasova:"
   ]
  },
  {
   "cell_type": "code",
   "execution_count": 53,
   "metadata": {
    "collapsed": true
   },
   "outputs": [],
   "source": [
    "url=\"https://raw.githubusercontent.com/evelinag/StarWars-social-network/master/\"+\\\n",
    "\"networks/starwars-episode-7-interactions-allCharacters.json\""
   ]
  },
  {
   "cell_type": "markdown",
   "metadata": {},
   "source": [
    "Thanks for sharing them!"
   ]
  },
  {
   "cell_type": "code",
   "execution_count": 54,
   "metadata": {
    "collapsed": false
   },
   "outputs": [
    {
     "name": "stdout",
     "output_type": "stream",
     "text": [
      "[u'nodes', u'links']\n"
     ]
    }
   ],
   "source": [
    "import urllib2\n",
    "\n",
    "data = []\n",
    "req = urllib2.Request(url)\n",
    "opener = urllib2.build_opener()\n",
    "f = opener.open(req)\n",
    "data = json.loads(f.read())\n",
    "\n",
    "print data.keys()"
   ]
  },
  {
   "cell_type": "code",
   "execution_count": 55,
   "metadata": {
    "collapsed": false
   },
   "outputs": [
    {
     "data": {
      "text/plain": [
       "{u'colour': u'#3881e5', u'name': u'LUKE', u'value': 2}"
      ]
     },
     "execution_count": 55,
     "metadata": {},
     "output_type": "execute_result"
    }
   ],
   "source": [
    "L=len(data['nodes'])# number of nodes (characters)\n",
    "data['nodes'][0]"
   ]
  },
  {
   "cell_type": "code",
   "execution_count": 56,
   "metadata": {
    "collapsed": false
   },
   "outputs": [],
   "source": [
    "labels=[item['name'].lower().title() for item in data['nodes']]\n",
    "values=[item['value'] for item in data['nodes']]\n",
    "hover_text=[labels[k]+', '+str(values[k]) +' scenes' for k in range(L)]"
   ]
  },
  {
   "cell_type": "code",
   "execution_count": 57,
   "metadata": {
    "collapsed": false
   },
   "outputs": [
    {
     "name": "stdout",
     "output_type": "stream",
     "text": [
      "{u'source': 2, u'target': 1, u'value': 1}\n"
     ]
    }
   ],
   "source": [
    "print data['links'][0]"
   ]
  },
  {
   "cell_type": "markdown",
   "metadata": {},
   "source": [
    "Define the graph edges, i.e. the pairs of nodes that are linked:"
   ]
  },
  {
   "cell_type": "code",
   "execution_count": 58,
   "metadata": {
    "collapsed": false
   },
   "outputs": [],
   "source": [
    "Edges=[(item['source'], item['target'])  for item in data['links']]"
   ]
  },
  {
   "cell_type": "code",
   "execution_count": 59,
   "metadata": {
    "collapsed": false
   },
   "outputs": [],
   "source": [
    "interact_strength=[item['value'] for item in data['links']]\n",
    "Keys=sorted(set(interact_strength))"
   ]
  },
  {
   "cell_type": "markdown",
   "metadata": {},
   "source": [
    "Associate to each link a width value for the corresponding arc, depending on the number \n",
    "of interactions between the nodes connected by that arc: \n"
   ]
  },
  {
   "cell_type": "code",
   "execution_count": 35,
   "metadata": {
    "collapsed": true
   },
   "outputs": [],
   "source": [
    "widths=[0.5+k*0.25 for k in range(5)]+[2+k*0.25 for k in range(4)]+[3, 3.25, 3.75, 4.25, 5, 5.25, 7]\n",
    "D=dict(zip(Keys, widths))\n",
    "Widths=[D[val] for val in interact_strength]"
   ]
  },
  {
   "cell_type": "markdown",
   "metadata": {
    "collapsed": false
   },
   "source": [
    "Below we define a few functions that  compute points on arcs of circles connecting two nodes/characters. These arcs are defined as quadratic \n",
    "rational Bezier curves ([[Gallier]](http://www.cis.upenn.edu/~jean/gbooks/geom1.html)), of control points $b_0, b_1, b_2$.\n",
    "\n",
    "$b_0$ and $b_2$ are the points on the Ox axis, representing two connected nodes. $b_1$ is chosen such that the triangle $\\Delta b_0b_1b_2$ is equilateral. The weights of the control points are respectively (1, 0.5, 1)."
   ]
  },
  {
   "cell_type": "code",
   "execution_count": 60,
   "metadata": {
    "collapsed": true
   },
   "outputs": [],
   "source": [
    "def get_b1(b0, b2):\n",
    "    b1= 0.5*(np.array(b0)+np.array(b2))+\\\n",
    "       0.5*np.array([0,1.0])*np.sqrt(3)*np.linalg.norm(np.array(b2)-np.array(b0))\n",
    "    return b1.tolist()    "
   ]
  },
  {
   "cell_type": "code",
   "execution_count": 61,
   "metadata": {
    "collapsed": true
   },
   "outputs": [],
   "source": [
    "def dim_plus_1(b, w):#lift the points b0, b1, b2 to 3D points a0, a1, a2 (see Gallier book)\n",
    "    #b is a list of 3 lists of 2D points \n",
    "    #w is a list of numbers (weights) of len equal to the len of b\n",
    "    if len(b)!=len(w):\n",
    "        raise ValueError('the number of weights is not equal to the nr of points')\n",
    "    else:\n",
    "        a=np.array([ point+[w[i]] for (i, point) in enumerate(b)])\n",
    "        a[1, :2]*=w[1]\n",
    "        return a"
   ]
  },
  {
   "cell_type": "code",
   "execution_count": 62,
   "metadata": {
    "collapsed": true
   },
   "outputs": [],
   "source": [
    "def Bezier_curve(bz, nr=75): #the control point coordinates are passed in a list bz=[bz0, bz1, bz2] \n",
    "                      \n",
    "    t=np.linspace(0,1, nr)\n",
    "    #for each parameter t[i] evaluate a point on the Bezier curve with the de Casteljau algorithm\n",
    "    N=len(bz) \n",
    "    points=[]# the list of points to be computed on the Bezier curve\n",
    "    for i in range(nr):\n",
    "        aa=np.copy(bz) \n",
    "        for r in range(1,N):\n",
    "            aa[:N-r,:]=(1-t[i])*aa[:N-r,:]+t[i]*aa[1:N-r+1,:]# convex combination of points\n",
    "        points.append(aa[0,:])                                  \n",
    "    return np.array(points) "
   ]
  },
  {
   "cell_type": "markdown",
   "metadata": {},
   "source": [
    "The points of the 3D-Bezier curve computed from the lifted control points $b_0, b_1, b_2$\n",
    "are projected through a central projection of center $O(0,0,0)$ onto the plane $z=1$, to get the \n",
    "2D rational Bezier curve, i.e. an arc of circle\n",
    "whose tangents at the nodes $b_0, b_2$, form an angle of $\\pi/3$ with the line $b_0b_2$:"
   ]
  },
  {
   "cell_type": "code",
   "execution_count": 63,
   "metadata": {
    "collapsed": true
   },
   "outputs": [],
   "source": [
    "def Rational_Bezier_curve(a):\n",
    "    C= Bezier_curve(a) \n",
    "    return [p[:2]/p[2] for p in C]"
   ]
  },
  {
   "cell_type": "code",
   "execution_count": 64,
   "metadata": {
    "collapsed": false
   },
   "outputs": [],
   "source": [
    "import plotly.plotly as py\n",
    "from plotly.graph_objs import *"
   ]
  },
  {
   "cell_type": "markdown",
   "metadata": {},
   "source": [
    "Define the trace for nodes placed on the x-axis. The nodes are colored with the colorscale `pl_density`: "
   ]
  },
  {
   "cell_type": "code",
   "execution_count": 65,
   "metadata": {
    "collapsed": true
   },
   "outputs": [],
   "source": [
    "pl_density=[[0.0, 'rgb(230,240,240)'],\n",
    "            [0.1, 'rgb(187,220,228)'],\n",
    "            [0.2, 'rgb(149,197,226)'],\n",
    "            [0.3, 'rgb(123,173,227)'],\n",
    "            [0.4, 'rgb(115,144,227)'],\n",
    "            [0.5, 'rgb(119,113,213)'],\n",
    "            [0.6, 'rgb(120,84,186)'],\n",
    "            [0.7, 'rgb(115,57,151)'],\n",
    "            [0.8, 'rgb(103,35,112)'],\n",
    "            [0.9, 'rgb(82,20,69)'],\n",
    "            [1.0, 'rgb(54,14,36)']]"
   ]
  },
  {
   "cell_type": "code",
   "execution_count": 66,
   "metadata": {
    "collapsed": true
   },
   "outputs": [],
   "source": [
    "X=range(L)\n",
    "Y=[0]*L\n",
    "color='#6b8aca'             "
   ]
  },
  {
   "cell_type": "code",
   "execution_count": 67,
   "metadata": {
    "collapsed": false
   },
   "outputs": [],
   "source": [
    "trace=dict(type='scatter',\n",
    "           x=X,\n",
    "           y=Y,\n",
    "           mode='markers',\n",
    "           marker=dict(\n",
    "                       size=12, \n",
    "                       color=values, \n",
    "                       colorscale=pl_density,\n",
    "                       showscale=False,\n",
    "                       line=dict(color='rgb(50,50,50)', width=0.75)\n",
    "                            ),\n",
    "          \n",
    "           text=hover_text,\n",
    "           hoverinfo='text'\n",
    "               )"
   ]
  },
  {
   "cell_type": "code",
   "execution_count": 68,
   "metadata": {
    "collapsed": true
   },
   "outputs": [],
   "source": [
    "data=[]\n",
    "interact=[]#list of strings to be displayed when hovering the mouse over the middle of the circle arcs\n",
    "xx=[]\n",
    "yy=[]"
   ]
  },
  {
   "cell_type": "markdown",
   "metadata": {},
   "source": [
    "Generate the arcs of circles as rational Bezier curves and append each arc to a list:"
   ]
  },
  {
   "cell_type": "code",
   "execution_count": 69,
   "metadata": {
    "collapsed": false
   },
   "outputs": [],
   "source": [
    "for i, (j, k) in enumerate(Edges):\n",
    "    if j<k:\n",
    "        interact.append('interactions('+labels[j]+', '+labels[k]+')='+'{:d}'.format(interact_strength[i]))\n",
    "    else:\n",
    "        interact.append('interactions('+labels[k]+', '+labels[j]+')='+'{:d}'.format(interact_strength[i]))\n",
    "    b0=[X[j], 0.0]\n",
    "    b2=[X[k], 0.0]\n",
    "    b1=get_b1(b0, b2)\n",
    "    a=dim_plus_1([b0, b1, b2], [1, 0.5, 1])\n",
    "    pts= Rational_Bezier_curve(a)\n",
    "    xx.append(pts[38][0])#abscissa of the middle point on the computed arc\n",
    "    yy.append(pts[38][1])#ordinate of the same point\n",
    "    x,y=zip(*pts)\n",
    "    \n",
    "    data.append(dict(type='scatter',\n",
    "                     x=x, \n",
    "                     y=y, \n",
    "                     name='',\n",
    "                     mode='lines', \n",
    "                     line=dict(width=Widths[i], color=color, shape='spline'),\n",
    "                     hoverinfo='none'\n",
    "                    )\n",
    "                )"
   ]
  },
  {
   "cell_type": "code",
   "execution_count": 70,
   "metadata": {
    "collapsed": false
   },
   "outputs": [],
   "source": [
    "data.append(dict(type='scatter',\n",
    "                 x=xx,\n",
    "                 y=yy,\n",
    "                 name='',\n",
    "                 mode='markers',\n",
    "                 marker=dict(size=0.5, color=color),\n",
    "                 text=interact,\n",
    "                 hoverinfo='text'))\n",
    "data.append(trace)"
   ]
  },
  {
   "cell_type": "code",
   "execution_count": 71,
   "metadata": {
    "collapsed": false
   },
   "outputs": [],
   "source": [
    "title=\"Arc Diagram of Star Wars Characters that Interacted in The Force Awakens\"\n",
    "\n",
    "anno_text=\"Data source: \"+\\\n",
    "          \"<a href='https://github.com/evelinag/StarWars-social-network/tree/master/networks'> [1]</a>\""
   ]
  },
  {
   "cell_type": "code",
   "execution_count": 72,
   "metadata": {
    "collapsed": false
   },
   "outputs": [
    {
     "data": {
      "text/plain": [
       "u'https://plot.ly/~empet/13574'"
      ]
     },
     "execution_count": 72,
     "metadata": {},
     "output_type": "execute_result"
    }
   ],
   "source": [
    "layout = dict(\n",
    "         title=title, \n",
    "         font=dict(size=10), \n",
    "         width=1100,\n",
    "         height=475,\n",
    "         showlegend=False,\n",
    "         xaxis=dict(anchor='y',\n",
    "                    showline=False,  \n",
    "                    zeroline=False,\n",
    "                    showgrid=False,\n",
    "                    tickvals=range(27), \n",
    "                    ticktext=labels,\n",
    "                    tickangle=50,\n",
    "                    ),\n",
    "         yaxis=dict(anchor='x',\n",
    "                    showline=False,  \n",
    "                    zeroline=False,\n",
    "                    showgrid=False,\n",
    "                    showticklabels=False,\n",
    "                    ), \n",
    "         hovermode='closest',\n",
    "         margin=dict(t=80, b=110, l=10, r=10),\n",
    "         annotations=Annotations([Annotation(showarrow=False, \n",
    "                                             text=anno_text,\n",
    "                                             xref='paper',     \n",
    "                                             yref='paper',     \n",
    "                                             x=0.05,  \n",
    "                                             y=-0.3,  \n",
    "                                             xanchor='left',   \n",
    "                                             yanchor='bottom',  \n",
    "                                             font=Font(size=11 )     \n",
    "                                            )\n",
    "                                  ])\n",
    "                 \n",
    "           \n",
    "    )\n",
    "fig=dict(data=data, layout=layout)\n",
    "py.sign_in('empet', 'tmlbowjmvt') \n",
    "py.plot(fig, filename='arc-diagram-FA')"
   ]
  },
  {
   "cell_type": "markdown",
   "metadata": {},
   "source": [
    "The arc diagram: [https://plot.ly/~empet/13574](https://plot.ly/~empet/13574)"
   ]
  },
  {
   "cell_type": "code",
   "execution_count": 73,
   "metadata": {
    "collapsed": false
   },
   "outputs": [
    {
     "data": {
      "text/html": [
       "<style>\n",
       "    /*body {\n",
       "        background-color: #F5F5F5;\n",
       "    }*/\n",
       "    div.cell{\n",
       "        width: 900px;\n",
       "        margin-left: 13% !important;\n",
       "        margin-right: auto;\n",
       "    }\n",
       "    #notebook li { /* More space between bullet points */\n",
       "    margin-top:0.8em;\n",
       "    }\n",
       "\n",
       "    h1 {\n",
       "        font-family: 'Alegreya Sans', sans-serif;\n",
       "    }\n",
       "    .text_cell_render h1 {\n",
       "        font-weight: 200;\n",
       "        font-size: 40pt;\n",
       "        line-height: 100%;\n",
       "        color: rgb(8, 66, 133);\n",
       "        margin-bottom: 0em;\n",
       "        margin-top: 0em;\n",
       "        display: block;\n",
       "    }\n",
       "    h2 {\n",
       "        font-family: 'Fenix', serif;\n",
       "        text-indent:1em;\n",
       "        text-align:center;\n",
       "    }\n",
       "    .text_cell_render h2 {\n",
       "        font-weight: 200;\n",
       "        font-size: 28pt;\n",
       "        line-height: 100%;\n",
       "        color: rgb(8, 66, 133);\n",
       "        margin-bottom: 1.5em;\n",
       "        margin-top: 0.5em;\n",
       "        display: block;\n",
       "    }\n",
       "    h3 {\n",
       "        font-family: 'Fenix', serif;\n",
       "        %margin-top:12px;\n",
       "        %margin-bottom: 3px;\n",
       "    }\n",
       "    .text_cell_render h3 {\n",
       "        font-weight: 300;\n",
       "        font-size: 18pt;\n",
       "        line-height: 100%;\n",
       "        color: rgb(8, 66, 133);\n",
       "        margin-bottom: 0.5em;\n",
       "        margin-top: 2em;\n",
       "        display: block;\n",
       "    }\n",
       "    h4 {\n",
       "        font-family: 'Fenix', serif;\n",
       "    }\n",
       "    .text_cell_render h4 {\n",
       "        font-weight: 300;\n",
       "        font-size: 16pt;\n",
       "        color: rgb(8, 66, 133);\n",
       "        margin-bottom: 0.5em;\n",
       "        margin-top: 0.5em;\n",
       "        display: block;\n",
       "    }\n",
       "    h5 {\n",
       "        font-family: 'Alegreya Sans', sans-serif;\n",
       "    }\n",
       "    .text_cell_render h5 {\n",
       "        font-weight: 300;\n",
       "        font-style: normal;\n",
       "        font-size: 16pt;\n",
       "        margin-bottom: 0em;\n",
       "        margin-top: 1.5em;\n",
       "        display: block;\n",
       "        }\n",
       "    div.text_cell_render{\n",
       "        font-family: 'Alegreya Sans',Computer Modern, \"Helvetica Neue\", Arial, Helvetica, Geneva, sans-serif;\n",
       "        line-height: 145%;\n",
       "        font-size: 130%;\n",
       "        width:900px;\n",
       "        margin-left:auto;\n",
       "        margin-right:auto;\n",
       "        %text-align:justify;\n",
       "        %text-justify:inter-word;\n",
       "    }\n",
       "    \n",
       "    \n",
       "    code{\n",
       "      font-size: 78%;\n",
       "    }\n",
       "    .rendered_html code{\n",
       "        background-color: transparent;\n",
       "        white-space: inherit;   \n",
       "    }\n",
       "    .prompt{\n",
       "        display: None;\n",
       "     }\n",
       "    .rendered_html code{\n",
       "    background-color: transparent;\n",
       "    }\n",
       "\n",
       "    blockquote{\n",
       "      display:block;\n",
       "      background: #f3f3f3;\n",
       "      font-family: \"Open sans\",verdana,arial,sans-serif;\n",
       "      width:610px;\n",
       "      padding: 15px 15px 15px 15px;\n",
       "      text-align:justify;\n",
       "      text-justify:inter-word;\n",
       "      }\n",
       "      blockquote p {\n",
       "        margin-bottom: 0;\n",
       "        line-height: 125%;\n",
       "        font-size: 100%;\n",
       "      }\n",
       "   /* element.style {\n",
       "    } */\n",
       "</style>\n",
       "<script>\n",
       "    MathJax.Hub.Config({\n",
       "                        TeX: {\n",
       "                           extensions: [\"AMSmath.js\"]\n",
       "                           },\n",
       "                tex2jax: {\n",
       "                    inlineMath: [ [\"$\",\"$\"], [\"\\\\(\",\"\\\\)\"] ],\n",
       "                    displayMath: [ [\"$$\",\"$$\"], [\"\\\\[\",\"\\\\]\"] ]\n",
       "                },\n",
       "                displayAlign: \"center\", // Change this to \"center\" to center equations.\n",
       "                \"HTML-CSS\": {\n",
       "                    styles: {\".MathJax_Display\": {\"margin\": 4}}\n",
       "                }\n",
       "        });\n",
       "</script>\n"
      ],
      "text/plain": [
       "<IPython.core.display.HTML object>"
      ]
     },
     "execution_count": 73,
     "metadata": {},
     "output_type": "execute_result"
    }
   ],
   "source": [
    "from IPython.core.display import HTML\n",
    "def  css_styling():\n",
    "    styles = open(\"./custom.css\", \"r\").read()\n",
    "    return HTML(styles)\n",
    "css_styling()"
   ]
  }
 ],
 "metadata": {
  "kernelspec": {
   "display_name": "Python 2",
   "language": "python",
   "name": "python2"
  },
  "language_info": {
   "codemirror_mode": {
    "name": "ipython",
    "version": 2
   },
   "file_extension": ".py",
   "mimetype": "text/x-python",
   "name": "python",
   "nbconvert_exporter": "python",
   "pygments_lexer": "ipython2",
   "version": "2.7.11"
  }
 },
 "nbformat": 4,
 "nbformat_minor": 0
}
